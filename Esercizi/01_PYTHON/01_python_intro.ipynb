{
 "cells": [
  {
   "cell_type": "code",
   "execution_count": 1,
   "id": "278c69b8",
   "metadata": {},
   "outputs": [
    {
     "data": {
      "text/plain": [
       "str"
      ]
     },
     "execution_count": 1,
     "metadata": {},
     "output_type": "execute_result"
    }
   ],
   "source": [
    "type(\"voap\")"
   ]
  },
  {
   "cell_type": "code",
   "execution_count": 2,
   "id": "220fc70e",
   "metadata": {},
   "outputs": [
    {
     "data": {
      "text/plain": [
       "float"
      ]
     },
     "execution_count": 2,
     "metadata": {},
     "output_type": "execute_result"
    }
   ],
   "source": [
    "type(int)"
   ]
  },
  {
   "cell_type": "code",
   "execution_count": 3,
   "id": "14cab445",
   "metadata": {},
   "outputs": [
    {
     "data": {
      "text/plain": [
       "3"
      ]
     },
     "execution_count": 3,
     "metadata": {},
     "output_type": "execute_result"
    }
   ],
   "source": [
    "int(3.4)"
   ]
  },
  {
   "cell_type": "code",
   "execution_count": 5,
   "id": "38b36fb4",
   "metadata": {},
   "outputs": [],
   "source": [
    "hi = \"hello there\"\n",
    "hi2 = 'hello there again'\n",
    "name = \"gigi\"\n",
    "greet = hi + name\n",
    "greeting = hi + \" \" + name\n",
    "silly = hi + \" \" + name * 3"
   ]
  },
  {
   "cell_type": "code",
   "execution_count": 6,
   "id": "acfeaf21",
   "metadata": {},
   "outputs": [
    {
     "data": {
      "text/plain": [
       "'hello there'"
      ]
     },
     "execution_count": 6,
     "metadata": {},
     "output_type": "execute_result"
    }
   ],
   "source": [
    "hi"
   ]
  },
  {
   "cell_type": "code",
   "execution_count": 10,
   "id": "c6832ec6",
   "metadata": {},
   "outputs": [
    {
     "data": {
      "text/plain": [
       "24"
      ]
     },
     "execution_count": 10,
     "metadata": {},
     "output_type": "execute_result"
    }
   ],
   "source": [
    "silly\n",
    "silly == hi"
   ]
  },
  {
   "cell_type": "code",
   "execution_count": 21,
   "id": "f0d5ba77",
   "metadata": {},
   "outputs": [
    {
     "name": "stdout",
     "output_type": "stream",
     "text": [
      "a\n",
      "b\n",
      "c\n",
      "c\n",
      "b\n",
      "a\n"
     ]
    }
   ],
   "source": [
    "s = \"abc\"\n",
    "print (s[0]) #primo elemento\n",
    "print (s[1]) #secondo elemento\n",
    "print (s[2]) #terzo elemento\n",
    "# s[3] # ERROR out of bound\n",
    "print (s[-1]) #terzo elemento\n",
    "print (s[-2]) #secondo elemento\n",
    "print (s[-3]) #primo elemento"
   ]
  },
  {
   "cell_type": "code",
   "execution_count": 22,
   "id": "d59ebd27",
   "metadata": {},
   "outputs": [
    {
     "data": {
      "text/plain": [
       "'def'"
      ]
     },
     "execution_count": 22,
     "metadata": {},
     "output_type": "execute_result"
    }
   ],
   "source": [
    "s = \"abcdefgh\"\n",
    "s[3:6] #evaluates to \"def\", same as\ts[3:6:1], for i=3, i<6, i++"
   ]
  },
  {
   "cell_type": "code",
   "execution_count": 24,
   "id": "38b03f2c",
   "metadata": {},
   "outputs": [
    {
     "data": {
      "text/plain": [
       "'df'"
      ]
     },
     "execution_count": 24,
     "metadata": {},
     "output_type": "execute_result"
    }
   ],
   "source": [
    "s[3:6:2] #evaluates to \"df\", for i=3, i<6, i+=2"
   ]
  },
  {
   "cell_type": "code",
   "execution_count": 25,
   "id": "bc9b79a6",
   "metadata": {},
   "outputs": [
    {
     "data": {
      "text/plain": [
       "'abcdefgh'"
      ]
     },
     "execution_count": 25,
     "metadata": {},
     "output_type": "execute_result"
    }
   ],
   "source": [
    "s[::] # evaluates to \"abcdefgh\", same as s[0:len(s):1]"
   ]
  },
  {
   "cell_type": "code",
   "execution_count": 26,
   "id": "2c14c3d2",
   "metadata": {},
   "outputs": [
    {
     "data": {
      "text/plain": [
       "'hgfedcba'"
      ]
     },
     "execution_count": 26,
     "metadata": {},
     "output_type": "execute_result"
    }
   ],
   "source": [
    "s[::-1] # evaluates to \"hgfedbca\", same as s[-1:-(len(s)+1):-1]"
   ]
  },
  {
   "cell_type": "code",
   "execution_count": 27,
   "id": "8d21e8ab",
   "metadata": {},
   "outputs": [
    {
     "data": {
      "text/plain": [
       "'ec'"
      ]
     },
     "execution_count": 27,
     "metadata": {},
     "output_type": "execute_result"
    }
   ],
   "source": [
    "s[4:1:-2] # evaluates to \"ec\""
   ]
  },
  {
   "cell_type": "code",
   "execution_count": 31,
   "id": "e73b2a14",
   "metadata": {},
   "outputs": [
    {
     "ename": "TypeError",
     "evalue": "'str' object does not support item assignment",
     "output_type": "error",
     "traceback": [
      "\u001b[0;31m---------------------------------------------------------------------------\u001b[0m",
      "\u001b[0;31mTypeError\u001b[0m                                 Traceback (most recent call last)",
      "\u001b[0;32m/var/folders/qt/wj1kqnwx4fv15s8r4nz64dr80000gn/T/ipykernel_43546/579318691.py\u001b[0m in \u001b[0;36m<module>\u001b[0;34m\u001b[0m\n\u001b[1;32m      1\u001b[0m \u001b[0;31m# Le stringhe sono immutabili\u001b[0m\u001b[0;34m\u001b[0m\u001b[0;34m\u001b[0m\u001b[0m\n\u001b[1;32m      2\u001b[0m \u001b[0ms\u001b[0m \u001b[0;34m=\u001b[0m \u001b[0;34m\"hello\"\u001b[0m\u001b[0;34m\u001b[0m\u001b[0;34m\u001b[0m\u001b[0m\n\u001b[0;32m----> 3\u001b[0;31m \u001b[0ms\u001b[0m\u001b[0;34m[\u001b[0m\u001b[0;36m0\u001b[0m\u001b[0;34m]\u001b[0m \u001b[0;34m=\u001b[0m \u001b[0;34m'y'\u001b[0m \u001b[0;31m# ERRORE, non consentito\u001b[0m\u001b[0;34m\u001b[0m\u001b[0;34m\u001b[0m\u001b[0m\n\u001b[0m\u001b[1;32m      4\u001b[0m \u001b[0ms\u001b[0m \u001b[0;34m=\u001b[0m \u001b[0;34m'y'\u001b[0m \u001b[0;34m+\u001b[0m \u001b[0ms\u001b[0m\u001b[0;34m[\u001b[0m\u001b[0;36m1\u001b[0m\u001b[0;34m:\u001b[0m\u001b[0mlen\u001b[0m\u001b[0;34m(\u001b[0m\u001b[0ms\u001b[0m\u001b[0;34m)\u001b[0m\u001b[0;34m]\u001b[0m \u001b[0;31m# OK, s è bindato ad un nuovo oggetto (concatenazione)\u001b[0m\u001b[0;34m\u001b[0m\u001b[0;34m\u001b[0m\u001b[0m\n",
      "\u001b[0;31mTypeError\u001b[0m: 'str' object does not support item assignment"
     ]
    }
   ],
   "source": [
    "# Le stringhe sono immutabili\n",
    "s = \"hello\"\n",
    "s[0] = 'y' # ERRORE, non consentito\n",
    "s = 'y' + s[1:len(s)] # OK, s è bindato ad un nuovo oggetto (concatenazione)"
   ]
  },
  {
   "cell_type": "code",
   "execution_count": 32,
   "id": "184fc092",
   "metadata": {},
   "outputs": [
    {
     "name": "stdout",
     "output_type": "stream",
     "text": [
      "1\n",
      "my fav num is 1 . x = 1\n",
      "my fav num is 1. x = 1\n"
     ]
    }
   ],
   "source": [
    "\"\"\" \n",
    "    print() example\n",
    "\"\"\"\n",
    "x = 1\n",
    "print(x)\n",
    "x_str = str(x)\n",
    "print(\"my fav num is\", x, \".\", \"x =\", x) # posso stampare l'oggetto x che è un intero\n",
    "print(\"my fav num is \" + x_str + \". \" + \"x = \" + x_str) # posso concatenare un intero se lo converto in string\n"
   ]
  },
  {
   "cell_type": "code",
   "execution_count": 34,
   "id": "84db156c",
   "metadata": {},
   "outputs": [
    {
     "name": "stdout",
     "output_type": "stream",
     "text": [
      "Type anything... aaaaaa\n",
      "aaaaaaaaaaaaaaaaaaaaaaaaaaaaaa\n",
      "Type a number... 1\n",
      "5\n"
     ]
    }
   ],
   "source": [
    "\"\"\"\n",
    "    input() example\n",
    "\"\"\"\n",
    "text = input(\"Type anything... \")  \n",
    "print(5*text)\n",
    "\n",
    "num = int(input(\"Type a number... \")) \n",
    "print(5*num)"
   ]
  },
  {
   "cell_type": "code",
   "execution_count": 11,
   "id": "87b8d393",
   "metadata": {},
   "outputs": [
    {
     "ename": "SyntaxError",
     "evalue": "invalid syntax (1889208232.py, line 8)",
     "output_type": "error",
     "traceback": [
      "\u001b[0;36m  File \u001b[0;32m\"/var/folders/qt/wj1kqnwx4fv15s8r4nz64dr80000gn/T/ipykernel_55628/1889208232.py\"\u001b[0;36m, line \u001b[0;32m8\u001b[0m\n\u001b[0;31m    if x = y: #PROVARE\u001b[0m\n\u001b[0m         ^\u001b[0m\n\u001b[0;31mSyntaxError\u001b[0m\u001b[0;31m:\u001b[0m invalid syntax\n"
     ]
    }
   ],
   "source": [
    "\"\"\"\n",
    "    Controllo di flusso, if-then-else\n",
    "\"\"\"\n",
    "\n",
    "x = float(input(\"Enter a number for x: \"))  \n",
    "y = float(input(\"Enter a number for y: \"))  \n",
    "if x == y: \n",
    "\n",
    "\"\"\"\n",
    "Provare \n",
    "\n",
    "if x = y: \n",
    "\n",
    "Scatenerà una SyntaxError\n",
    "Raised when the parser encounters a syntax error.\n",
    "This may occur in an import statement, in a call to the built-in functions compile(), \n",
    "exec(), or eval(), or when reading the initial script or standard \n",
    "input (also interactively).\n",
    "\"\"\"\n",
    "\n",
    "    print(\"x and y are equal\")\n",
    "    if y != 0:\n",
    "        print(\"therefore, x / y is\", x/y)\n",
    "\n",
    "elif x < y:\n",
    "    print(\"x is smaller\")\n",
    "else:\n",
    "    print(\"y is smaller\")\n",
    "\n",
    "print(\"thanks!\")"
   ]
  },
  {
   "cell_type": "code",
   "execution_count": 40,
   "id": "8179f6b4",
   "metadata": {},
   "outputs": [
    {
     "name": "stdout",
     "output_type": "stream",
     "text": [
      "You're in the Lost Forest. Go left or right? right\n",
      "You're in the Lost Forest. Go left or right? right\n",
      "You're in the Lost Forest. Go left or right? right\n",
      "You're in the Lost Forest. Go left or right? left\n",
      "You got out of the Lost Forest!\n"
     ]
    }
   ],
   "source": [
    "\"\"\"\n",
    "    Costrutto ciclico: WHILE\n",
    "\"\"\"\n",
    "\n",
    "n = input(\"You're in the Lost Forest. Go left or right? \")\n",
    "while n == \"right\":\n",
    "    n = input(\"You're in the Lost Forest. Go left or right? \")\n",
    "print(\"You got out of the Lost Forest!\")"
   ]
  },
  {
   "cell_type": "code",
   "execution_count": 46,
   "id": "6c9d2b7d",
   "metadata": {},
   "outputs": [
    {
     "name": "stdout",
     "output_type": "stream",
     "text": [
      "primo approccio\n",
      "\n",
      "0\n",
      "1\n",
      "2\n",
      "3\n",
      "4\n",
      "secondo approccio\n",
      "\n",
      "0\n",
      "1\n",
      "2\n",
      "3\n",
      "4\n"
     ]
    }
   ],
   "source": [
    "# Obiettivo: iterare su un insieme di numeri in una sequenza\n",
    "n = 0\n",
    "# più complicato con un ciclo while n = 0\n",
    "print(\"primo approccio\\n\");\n",
    "while n < 5:\n",
    "    print(n)   \n",
    "    n = n+1\n",
    "print\n",
    "print(\"secondo approccio\\n\");\n",
    "# shortcut con un ciclo for \n",
    "for n in range(5):\n",
    "    print(n)"
   ]
  },
  {
   "cell_type": "code",
   "execution_count": 8,
   "id": "553952b3",
   "metadata": {},
   "outputs": [
    {
     "name": "stdout",
     "output_type": "stream",
     "text": [
      "7 8 9 <class 'range'>\n",
      "i:  7\n",
      "i:  8\n",
      "i:  9\n",
      "Prima mysum: 24\n",
      "5\n",
      "12\n",
      "Seconda mysum: 12\n"
     ]
    }
   ],
   "source": [
    "\"\"\"\n",
    "    Costrutto ciclico: FOR\n",
    "    for <variable> in range(<some_num>):\n",
    "        <expression>\n",
    "        <expression>\n",
    "        ...\n",
    "\n",
    "\"\"\"\n",
    "mysum = 0\n",
    "prova = range(7,10)\n",
    "print(*prova, type(prova))\n",
    "for i in range(7, 10):  \n",
    "    print(\"i: \", i)\n",
    "    mysum += i\n",
    "print(\"Prima mysum: \" + str(mysum))\n",
    "\n",
    "mysum = 0\n",
    "for i in range(5, 11, 2): \n",
    "    mysum += i\n",
    "    print(mysum)\n",
    "    if (mysum == 12):\n",
    "        break\n",
    "        mysum += 1  \n",
    "    \n",
    "print(\"Seconda mysum: \" + str(mysum))\n"
   ]
  },
  {
   "cell_type": "code",
   "execution_count": 2,
   "id": "b23a44d6",
   "metadata": {},
   "outputs": [
    {
     "name": "stdout",
     "output_type": "stream",
     "text": [
      "Enter an integer: -100\n",
      "-100 is not a perfect square\n",
      "Just checking... did you mean 100 ?\n"
     ]
    }
   ],
   "source": [
    "\"\"\"\n",
    "    EXAMPLE: perfect squares\n",
    "\"\"\"\n",
    "\n",
    "ans = 0\n",
    "neg_flag = False\n",
    "x = int(input(\"Enter an integer: \"))\n",
    "if x < 0:\n",
    "    neg_flag = True\n",
    "while ans**2 < x:\n",
    "    ans = ans + 1\n",
    "if ans**2 == x:\n",
    "    print(\"Square root of\", x, \"is\", ans)\n",
    "else:\n",
    "    print(x, \"is not a perfect square\")\n",
    "    if neg_flag:\n",
    "        print(\"Just checking... did you mean\", -x, \"?\")\n"
   ]
  },
  {
   "cell_type": "code",
   "execution_count": 5,
   "id": "d453f82b",
   "metadata": {},
   "outputs": [
    {
     "name": "stdout",
     "output_type": "stream",
     "text": [
      "There is an i or u\n",
      "There is an i or u\n"
     ]
    }
   ],
   "source": [
    "####################\n",
    "## EXAMPLE: for loops over strings\n",
    "####################\n",
    "s = \"ciao\"\n",
    "for index in range(len(s)):\n",
    "    if s[index] == 'i' or s[index] == 'u':\n",
    "        print(\"There is an i or u\")\n",
    "\n",
    "for char in s:\n",
    "    if char == 'i' or char == 'u':\n",
    "        print(\"There is an i or u\")\n",
    "        "
   ]
  },
  {
   "cell_type": "code",
   "execution_count": 3,
   "id": "d0bda834",
   "metadata": {},
   "outputs": [
    {
     "name": "stdout",
     "output_type": "stream",
     "text": [
      "Give me a  C! C\n",
      "Give me an I! I\n",
      "Give me an A! A\n",
      "Give me an O! O\n",
      "Give me an O! O\n",
      "Give me an O! O\n",
      "Give me an O! O\n",
      "Give me an O! O\n",
      "Give me an O! O\n",
      "Give me an O! O\n",
      "Give me an O! O\n",
      "Give me an O! O\n",
      "Give me an O! O\n",
      "Give me an O! O\n",
      "Give me an O! O\n",
      "Give me an O! O\n",
      "Give me an O! O\n",
      "Give me an O! O\n",
      "Give me an O! O\n",
      "Give me an O! O\n",
      "What does that spell?\n",
      "CIAOOOOOOOOOOOOOOOOO !!!\n",
      "CIAOOOOOOOOOOOOOOOOO !!!\n",
      "CIAOOOOOOOOOOOOOOOOO !!!\n",
      "CIAOOOOOOOOOOOOOOOOO !!!\n",
      "CIAOOOOOOOOOOOOOOOOO !!!\n",
      "CIAOOOOOOOOOOOOOOOOO !!!\n",
      "CIAOOOOOOOOOOOOOOOOO !!!\n",
      "CIAOOOOOOOOOOOOOOOOO !!!\n",
      "CIAOOOOOOOOOOOOOOOOO !!!\n",
      "CIAOOOOOOOOOOOOOOOOO !!!\n"
     ]
    }
   ],
   "source": [
    "####################\n",
    "## EXAMPLE: while loops and strings\n",
    "## CHALLENGE: rewrite while loop with a for loop\n",
    "####################\n",
    "\n",
    "an_letters = \"aefhilmnorsxAEFHILMNORSX\"\n",
    "word = input(\"I will cheer for you! Enter a word: \")\n",
    "times = int(input(\"Enthusiasm level (1-10): \"))\n",
    "\n",
    "i = 0\n",
    "while i < len(word):\n",
    "#for char in word: # soluzione 2\n",
    "    char = word[i] # da rimuovere nel caso di soluzione 2\n",
    "    if char in an_letters:\n",
    "        print(\"Give me an \" + char + \"! \" + char)\n",
    "    else:\n",
    "        print(\"Give me a  \" + char + \"! \" + char)\n",
    "    i += 1 # da rimuovere con la soluzione 2\n",
    "    \n",
    "print(\"What does that spell?\")\n",
    "for i in range(times):\n",
    "    print(word, \"!!!\")\n"
   ]
  }
 ],
 "metadata": {
  "kernelspec": {
   "display_name": "Python 3 (ipykernel)",
   "language": "python",
   "name": "python3"
  },
  "language_info": {
   "codemirror_mode": {
    "name": "ipython",
    "version": 3
   },
   "file_extension": ".py",
   "mimetype": "text/x-python",
   "name": "python",
   "nbconvert_exporter": "python",
   "pygments_lexer": "ipython3",
   "version": "3.10.1"
  }
 },
 "nbformat": 4,
 "nbformat_minor": 5
}
