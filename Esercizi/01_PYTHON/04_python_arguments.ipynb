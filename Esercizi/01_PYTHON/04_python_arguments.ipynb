{
 "cells": [
  {
   "cell_type": "code",
   "execution_count": null,
   "metadata": {},
   "outputs": [],
   "source": [
    "# Riferimenti\n",
    "\n",
    "x = 7\n",
    "y = 10\n",
    "print(\"x=\", x, \"ref_x=\", id(x))\n",
    "print(\"y=\", y, \"ref_y=\", id(y))"
   ]
  },
  {
   "cell_type": "code",
   "execution_count": null,
   "metadata": {},
   "outputs": [],
   "source": [
    "# Passaggio parametri\n",
    "\n",
    "def fun(x):\n",
    "    print(\"Inside fun: x=\", x, \"ref_x=\", id(x))\n",
    "    x = 7\n",
    "\n",
    "fun(x)\n",
    "print(\"Outside fun: x=\", x, \"ref_x=\", id(x))"
   ]
  },
  {
   "cell_type": "code",
   "execution_count": null,
   "metadata": {},
   "outputs": [],
   "source": [
    "# Passaggio parametri: oggetti mutabili\n",
    "\n",
    "def fun(mylist):\n",
    "    mylist.append([1,2,3,4])\n",
    "    print (\"Inside fun: val=\", mylist, \"ref=\", id(mylist))\n",
    "\n",
    "mylist = [10,20,30]\n",
    "fun( mylist )\n",
    "print (\"Outside fun: val=\", mylist, \"ref=\", id(mylist))\n",
    "\n",
    "print()\n",
    "\n",
    "def fun2(mylist):\n",
    "    mylist = [1,2,3,4]\n",
    "    print (\"Inside fun: val=\", mylist, \"ref=\", id(mylist))\n",
    "\n",
    "mylist = [10,20,30]\n",
    "fun2( mylist )\n",
    "print (\"Outside fun: val=\", mylist, \"ref=\", id(mylist))"
   ]
  },
  {
   "cell_type": "code",
   "execution_count": null,
   "metadata": {},
   "outputs": [],
   "source": [
    "# Passaggio parametri: oggetti immutabili\n",
    "\n",
    "def fun(x):\n",
    "    print (\"Inside fun before: val=\", x, \"ref=\", id(x))\n",
    "    x**=2\n",
    "    print (\"Inside fun after: val=\", x, \"ref=\", id(x))\n",
    "    \n",
    "x = 3\n",
    "fun( x )\n",
    "print (\"Outside fun: val=\", x, \"ref=\", id(x))"
   ]
  },
  {
   "cell_type": "code",
   "execution_count": null,
   "metadata": {},
   "outputs": [],
   "source": [
    "# Variable-length arguments (*args)\n",
    "\n",
    "def fun(*args):\n",
    "    for arg in args:\n",
    "        print(arg)\n",
    "        \n",
    "fun(\"first\", \"second\", \"third\")\n",
    "\n",
    "print()\n",
    "\n",
    "def fun2(x, *args):\n",
    "    print(x)\n",
    "    for arg in args:\n",
    "        print(arg)\n",
    "        \n",
    "fun2(100, \"first\", \"second\", \"third\")"
   ]
  },
  {
   "cell_type": "code",
   "execution_count": null,
   "metadata": {},
   "outputs": [],
   "source": [
    "# Keyword arguments\n",
    "\n",
    "def fun(name, surname, country):\n",
    "    print(name, surname, country)\n",
    "    \n",
    "fun(surname=\"Rossi\", country=\"Italy\", name=\"Mario\") "
   ]
  },
  {
   "cell_type": "code",
   "execution_count": 2,
   "metadata": {},
   "outputs": [
    {
     "name": "stdout",
     "output_type": "stream",
     "text": [
      "day = 8\n",
      "month = March\n",
      "year = 2024\n",
      "\n",
      "Date:\n",
      "day = 8\n",
      "month = March\n",
      "year = 2024\n"
     ]
    }
   ],
   "source": [
    "# **kwargs\n",
    "\n",
    "def fun(**kwargs):\n",
    "    for key, value in kwargs.items():\n",
    "        print(key, \"=\", value)\n",
    "        \n",
    "fun(day=8, month=\"March\", year=2024) \n",
    "\n",
    "print()\n",
    "\n",
    "def fun2(x, **kwargs):\n",
    "    print(x)\n",
    "    for key, value in kwargs.items():\n",
    "        print(key, \"=\", value)\n",
    "        \n",
    "fun2(\"Date:\", day=8, month=\"March\", year=2024)"
   ]
  },
  {
   "cell_type": "code",
   "execution_count": 7,
   "metadata": {},
   "outputs": [
    {
     "ename": "SyntaxError",
     "evalue": "invalid syntax (3857881825.py, line 21)",
     "output_type": "error",
     "traceback": [
      "\u001b[0;36m  Cell \u001b[0;32mIn[7], line 21\u001b[0;36m\u001b[0m\n\u001b[0;31m    def fun4(username, email, **kwargs, password=\"changeme\", days=30):\u001b[0m\n\u001b[0m                                        ^\u001b[0m\n\u001b[0;31mSyntaxError\u001b[0m\u001b[0;31m:\u001b[0m invalid syntax\n"
     ]
    }
   ],
   "source": [
    "# Default arguments\n",
    "\n",
    "def fun(username, password=\"changeme\", days=30):\n",
    "    print(username, password, days)\n",
    "    \n",
    "fun(\"admin\", \"admin\", 120)\n",
    "fun(\"user\", \"password\")\n",
    "fun(\"operator\")\n",
    "\n",
    "print()\n",
    "\n",
    "# Generate an error due to non-default argument following a default argument\n",
    "#def fun2(username, password=\"changeme\", days=30, email):\n",
    "#    print(username, password, days, email)\n",
    "\n",
    "def fun3(username, email, password=\"changeme\", days=30):\n",
    "    print(username, password, days, email)\n",
    "    \n",
    "fun3(\"admin\", \"admin\", 120, \"admin@email.com\")\n",
    "\n",
    "def fun4(username, email, **kwargs, password=\"changeme\", days=30):\n",
    "    print(username, password, days, email)\n",
    "    for key, value in kwargs.items():\n",
    "        print(key, value)\n",
    "\n",
    "fun4(\"admin\", \"admin\", 120, \"admin@email.com\", nome=\"gigi\", cognome=\"ldesi\")\n",
    "\n"
   ]
  },
  {
   "cell_type": "code",
   "execution_count": null,
   "metadata": {},
   "outputs": [],
   "source": [
    "print(list(range(3, 6)))   #normal call with separate arguments\n",
    "\n",
    "args = [3, 6]\n",
    "print(list(range(*args)))  #call with arguments unpacked from a list\n"
   ]
  }
 ],
 "metadata": {
  "kernelspec": {
   "display_name": "Python 3",
   "language": "python",
   "name": "python3"
  },
  "language_info": {
   "codemirror_mode": {
    "name": "ipython",
    "version": 3
   },
   "file_extension": ".py",
   "mimetype": "text/x-python",
   "name": "python",
   "nbconvert_exporter": "python",
   "pygments_lexer": "ipython3",
   "version": "3.10.1"
  }
 },
 "nbformat": 4,
 "nbformat_minor": 2
}
