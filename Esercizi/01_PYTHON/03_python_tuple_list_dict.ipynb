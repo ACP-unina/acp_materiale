{
 "cells": [
  {
   "cell_type": "code",
   "execution_count": 1,
   "id": "907c4765",
   "metadata": {},
   "outputs": [
    {
     "name": "stdout",
     "output_type": "stream",
     "text": [
      "1\n",
      "2\n"
     ]
    }
   ],
   "source": [
    "#########################\n",
    "## EXAMPLE: returning a tuple\n",
    "#########################\n",
    "def quotient_and_remainder(x, y):\n",
    "    q = x // y\n",
    "    r = x % y\n",
    "    return (q, r)\n",
    "    \n",
    "(quot, rem) = quotient_and_remainder(5,3)\n",
    "print(quot)\n",
    "print(rem)"
   ]
  },
  {
   "cell_type": "code",
   "execution_count": 10,
   "id": "2bbc18ba",
   "metadata": {},
   "outputs": [
    {
     "name": "stdout",
     "output_type": "stream",
     "text": [
      "nums ref:  0x108090a90\n",
      "nums ref:  0x1082d0a40\n",
      "nums ref:  0x10827b680\n",
      "nums ref:  0x1082b4a40\n",
      "a: 1 b: 7 c: 2\n",
      "nums ref:  0x108076da0\n",
      "nums ref:  0x1082cd100\n",
      "nums ref:  0x10827b680\n",
      "nums ref:  0x1082b4a40\n",
      "nums ref:  0x1082b5080\n",
      "From 2008 to 2014 Taylor Swift wrote songs about 5 people!\n"
     ]
    },
    {
     "data": {
      "text/plain": [
       "[{'collections': 251, 'collected': 2249, 'uncollectable': 0},\n",
       " {'collections': 22, 'collected': 734, 'uncollectable': 0},\n",
       " {'collections': 2, 'collected': 0, 'uncollectable': 0}]"
      ]
     },
     "execution_count": 10,
     "metadata": {},
     "output_type": "execute_result"
    }
   ],
   "source": [
    "import gc\n",
    "#########################\n",
    "## EXAMPLE: iterating over tuples\n",
    "#########################\n",
    "def get_data(aTuple):\n",
    "    \"\"\"\n",
    "    aTuple, tuple di tuples (int, string)\n",
    "    get_data(aTuple): Estrae tutti gli interi da aTuple e li setta\n",
    "    come elementi in una nuova tupla. \n",
    "    Estrae tutte le stringhe uniche da aTuple e le setta\n",
    "    come elementi in una nuova tupla.\n",
    "    Ritorna la tuple del minimo e del massimo nella tupla di interi,\n",
    "    e il numero di stringhe unique.\n",
    "    \"\"\"\n",
    "    nums = ()    # empty tuple\n",
    "    words = ()\n",
    "    for t in aTuple:\n",
    "        #print(\"curren t: \" + str(t))\n",
    "        # concatenating with a singleton tuple, t[0] è il primo el della tupla, gli interi\n",
    "        nums = nums + (t[0],)\n",
    "        print(\"nums ref: \", hex(id(nums)))   \n",
    "        # only add words haven't added before,  t[1] è il secondo el della tupla, le stringhe\n",
    "        if t[1] not in words:   \n",
    "            words = words + (t[1],)\n",
    "    min_n = min(nums)\n",
    "    max_n = max(nums)\n",
    "    unique_words = len(words)\n",
    "    return (min_n, max_n, unique_words)\n",
    "\n",
    "test = ((1,\"a\"), (2, \"b\"), (1,\"a\"), (7,\"b\"))\n",
    "\n",
    "(a, b, c) = get_data(test)\n",
    "\n",
    "print(\"a:\",a,\"b:\",b,\"c:\",c)\n",
    "\n",
    "# apply to any data you want!\n",
    "tswift = ((2014,\"Katy\"),\n",
    "          (2014, \"Harry\"),\n",
    "          (2012,\"Jake\"), \n",
    "          (2010,\"Taylor\"), \n",
    "          (2008,\"Joe\"))   \n",
    "\n",
    "(min_year, max_year, num_people) = get_data(tswift)\n",
    "print(\"From\", min_year, \"to\", max_year, \\\n",
    "        \"Taylor Swift wrote songs about\", num_people, \"people!\")\n",
    "        "
   ]
  },
  {
   "cell_type": "code",
   "execution_count": 18,
   "id": "aeaf02b4",
   "metadata": {},
   "outputs": [
    {
     "name": "stdout",
     "output_type": "stream",
     "text": [
      "len(L) 4\n",
      "2\n",
      "5\n",
      "[1, 2]\n",
      "a\n"
     ]
    }
   ],
   "source": [
    "a_list = []\n",
    "L = [2, 'a', 4, [1,2]]\n",
    "print(\"len(L) \" + str(len(L)))\n",
    "print(L[0])\n",
    "print(L[2]+1)\n",
    "print(L[3])\n",
    "#L[4]\n",
    "i = 2\n",
    "print(L[i-1])"
   ]
  },
  {
   "cell_type": "code",
   "execution_count": 2,
   "id": "48ed0a03",
   "metadata": {},
   "outputs": [
    {
     "name": "stdout",
     "output_type": "stream",
     "text": [
      "['apple', 'banana', 'mango']\n"
     ]
    }
   ],
   "source": [
    "### list comprehension example\n",
    "\n",
    "fruits = [\"apple\", \"banana\", \"cherry\", \"kiwi\", \"mango\"]\n",
    "\n",
    "## crea una nuova lista a partire da fruits dove ci sono solo i frutti che contengono il carattere 'a'\n",
    "newlist = [x for x in fruits if 'a' in x]\n",
    "\n",
    "print(newlist)"
   ]
  },
  {
   "cell_type": "code",
   "execution_count": 19,
   "id": "a16ba67e",
   "metadata": {},
   "outputs": [
    {
     "name": "stdout",
     "output_type": "stream",
     "text": [
      "10\n",
      "10\n"
     ]
    }
   ],
   "source": [
    "#########################\n",
    "## EXAMPLE: sum of elements in a list\n",
    "#########################\n",
    "def sum_elem_method1(L):\n",
    "  total = 0 \n",
    "  for i in range(len(L)): \n",
    "      total += L[i] \n",
    "  return total\n",
    "  \n",
    "def sum_elem_method2(L):\n",
    "    total = 0 \n",
    "    for i in L: \n",
    "        total += i \n",
    "    return total\n",
    "  \n",
    "print(sum_elem_method1([1,2,3,4]))\n",
    "print(sum_elem_method2([1,2,3,4]))"
   ]
  },
  {
   "cell_type": "code",
   "execution_count": 21,
   "id": "f294d888",
   "metadata": {},
   "outputs": [
    {
     "name": "stdout",
     "output_type": "stream",
     "text": [
      "concateno L1 e L2\n",
      "[2, 1, 3, 4, 5, 6]\n",
      "concateno L1 con la lista [0,6]\n",
      "[2, 1, 3, 0, 6]\n",
      "0\n",
      "['I', '<', '3', ' ', 'c', 's']\n",
      "['I', '3 cs']\n",
      "abc\n",
      "a_b_c\n",
      "[0, 3, 6, 9]\n"
     ]
    }
   ],
   "source": [
    "#########################\n",
    "## EXAMPLE: various list operations\n",
    "## put print(L) at different locations to see how it gets mutated\n",
    "#########################\n",
    "L1 = [2,1,3]\n",
    "L2 = [4,5,6]\n",
    "print(\"concateno L1 e L2\")\n",
    "L3 = L1 + L2\n",
    "print(L3)\n",
    "print(\"concateno L1 con la lista [0,6]\")\n",
    "L1.extend([0,6])\n",
    "print(L1)\n",
    "\n",
    "#Operazioni di rimozione da una lista\n",
    "L = [2,1,3,6,3,7,0]\n",
    "L.remove(2)\n",
    "L.remove(3)\n",
    "del(L[1])\n",
    "print(L.pop())\n",
    "\n",
    "#Converto stringa in lista e opero con split e join\n",
    "s = \"I<3 cs\"\n",
    "print(list(s))\n",
    "print(s.split('<'))\n",
    "L = ['a', 'b', 'c']\n",
    "print(''.join(L))\n",
    "print('_'.join(L))\n",
    "\n",
    "# operazioni di ordinamento su liste\n",
    "L=[9,6,0,3]\n",
    "print(sorted(L))\n",
    "L.sort()\n",
    "L.reverse()"
   ]
  },
  {
   "cell_type": "code",
   "execution_count": 5,
   "id": "e4a34aa3",
   "metadata": {},
   "outputs": [
    {
     "name": "stdout",
     "output_type": "stream",
     "text": [
      "1\n",
      "1\n",
      "['red', 'yellow', 'orange', 'pink']\n",
      "['red', 'yellow', 'orange', 'pink']\n"
     ]
    }
   ],
   "source": [
    "#########################\n",
    "## EXAMPLE: aliasing\n",
    "#########################\n",
    "a = 1\n",
    "b = a\n",
    "print(a)\n",
    "print(b)\n",
    "\n",
    "warm = ['red', 'yellow', 'orange']\n",
    "hot = warm\n",
    "hot.append('pink')\n",
    "print(hot)\n",
    "print(warm)\n",
    "\n"
   ]
  },
  {
   "cell_type": "code",
   "execution_count": 6,
   "id": "8ddafae3",
   "metadata": {},
   "outputs": [
    {
     "name": "stdout",
     "output_type": "stream",
     "text": [
      "['blue', 'green', 'grey', 'black']\n",
      "['blue', 'green', 'grey']\n"
     ]
    }
   ],
   "source": [
    "#########################\n",
    "## EXAMPLE: cloning\n",
    "#########################\n",
    "cool = ['blue', 'green', 'grey']\n",
    "chill = cool[:]\n",
    "chill.append('black')\n",
    "print(chill)\n",
    "print(cool)\n",
    "\n"
   ]
  },
  {
   "cell_type": "code",
   "execution_count": 7,
   "id": "8bcc3c8a",
   "metadata": {},
   "outputs": [
    {
     "name": "stdout",
     "output_type": "stream",
     "text": [
      "['orange', 'red', 'yellow']\n",
      "None\n",
      "['grey', 'green', 'blue']\n",
      "['blue', 'green', 'grey']\n"
     ]
    }
   ],
   "source": [
    "#########################\n",
    "## EXAMPLE: sorting with/without mutation\n",
    "#########################\n",
    "warm = ['red', 'yellow', 'orange']\n",
    "sortedwarm = warm.sort()\n",
    "print(warm)\n",
    "print(sortedwarm)\n",
    "\n",
    "cool = ['grey', 'green', 'blue']\n",
    "sortedcool = sorted(cool)\n",
    "print(cool)\n",
    "print(sortedcool)\n",
    "\n"
   ]
  },
  {
   "cell_type": "code",
   "execution_count": 8,
   "id": "4892aa39",
   "metadata": {},
   "outputs": [
    {
     "name": "stdout",
     "output_type": "stream",
     "text": [
      "[['yellow', 'orange'], ['red']]\n",
      "['red', 'pink']\n",
      "[['yellow', 'orange'], ['red', 'pink']]\n"
     ]
    }
   ],
   "source": [
    "#########################\n",
    "## EXAMPLE: lists of lists of lists...\n",
    "#########################\n",
    "warm = ['yellow', 'orange']\n",
    "hot = ['red']\n",
    "brightcolors = [warm]\n",
    "brightcolors.append(hot)\n",
    "print(brightcolors)\n",
    "hot.append('pink')\n",
    "print(hot)\n",
    "print(brightcolors)\n",
    "\n",
    "\n"
   ]
  },
  {
   "cell_type": "code",
   "execution_count": 25,
   "id": "b4ca0d51",
   "metadata": {},
   "outputs": [
    {
     "name": "stdout",
     "output_type": "stream",
     "text": [
      "[1, 2, 3, 4]\n",
      "[1, 2, 5, 6]\n",
      "after remove_dups\n",
      "[2, 3, 4] [1, 2, 5, 6]\n",
      "after remove_dups_new\n",
      "[3, 4] [1, 2, 5, 6]\n"
     ]
    }
   ],
   "source": [
    "###############################\n",
    "## EXAMPLE: mutating a list while iterating over it\n",
    "###############################\n",
    "def remove_dups(L1, L2):\n",
    "    for e in L1:\n",
    "        if e in L2:\n",
    "            L1.remove(e)\n",
    "      \n",
    "def remove_dups_new(L1, L2):\n",
    "    L1_copy = L1[:]\n",
    "    for e in L1_copy:\n",
    "        if e in L2:\n",
    "            L1.remove(e)\n",
    "\n",
    "L1 = [1, 2, 3, 4]\n",
    "L2 = [1, 2, 5, 6]\n",
    "print(L1)\n",
    "print(L2)\n",
    "remove_dups(L1, L2)\n",
    "print(\"after remove_dups\")\n",
    "print(L1, L2)\n",
    "\n",
    "L1 = [1, 2, 3, 4]\n",
    "L2 = [1, 2, 5, 6]\n",
    "remove_dups_new(L1, L2)\n",
    "print(\"after remove_dups_new\")\n",
    "print(L1, L2)\n",
    "\n"
   ]
  },
  {
   "cell_type": "code",
   "execution_count": 1,
   "id": "b1234344",
   "metadata": {},
   "outputs": [
    {
     "name": "stdout",
     "output_type": "stream",
     "text": [
      "['blue', 'green']\n",
      "['red', 'yellow', 'orange']\n",
      "[['blue', 'green']]\n",
      "colors1 =  [['blue', 'green'], ['red', 'yellow', 'orange']]\n",
      "colors2 = [['blue', 'green'], ['red', 'yellow', 'orange']]\n",
      "colors1 =  [['blue', 'green'], ['yellow', 'orange']]\n",
      "colors2 = [['blue', 'green'], ['red', 'yellow', 'orange']]\n",
      "e = ['blue', 'green']\n",
      "e = ['yellow', 'orange']\n",
      "blue\n",
      "green\n",
      "yellow\n",
      "orange\n",
      "flat = ['blue', 'green', 'yellow', 'orange']\n",
      "None\n",
      "flat = ['blue', 'green', 'orange', 'yellow']\n",
      "flat = ['blue', 'green', 'orange', 'yellow']\n",
      "new_flat = ['yellow', 'orange', 'green', 'blue']\n",
      "['blue', 'black']\n",
      "[['blue', 'black'], ['yellow', 'orange']]\n"
     ]
    }
   ],
   "source": [
    "###############################\n",
    "## EXERCISE: Test yourself by predicting what the output is and \n",
    "##           what gets mutated then check with the Python Tutor\n",
    "###############################\n",
    "cool = ['blue', 'green']\n",
    "warm = ['red', 'yellow', 'orange']\n",
    "print(cool)\n",
    "print(warm)\n",
    "\n",
    "colors1 = [cool]\n",
    "print(colors1)\n",
    "colors1.append(warm)\n",
    "print('colors1 = ', colors1)\n",
    "\n",
    "colors2 = [['blue', 'green'],\n",
    "          ['red', 'yellow', 'orange']]\n",
    "print('colors2 =', colors2)\n",
    "\n",
    "warm.remove('red') \n",
    "print('colors1 = ', colors1)\n",
    "print('colors2 =', colors2)\n",
    "\n",
    "for e in colors1:\n",
    "    print('e =', e)\n",
    "\n",
    "for e in colors1:\n",
    "    if type(e) == list:\n",
    "        for e1 in e:\n",
    "            print(e1)\n",
    "    else:\n",
    "        print(e)\n",
    "\n",
    "flat = cool + warm\n",
    "print('flat =', flat)\n",
    "\n",
    "print(flat.sort())\n",
    "print('flat =', flat)\n",
    "\n",
    "new_flat = sorted(flat, reverse = True)\n",
    "print('flat =', flat)\n",
    "print('new_flat =', new_flat)\n",
    "\n",
    "cool[1] = 'black'\n",
    "print(cool)\n",
    "print(colors1)\n"
   ]
  },
  {
   "cell_type": "code",
   "execution_count": 4,
   "id": "52f052d3",
   "metadata": {},
   "outputs": [
    {
     "name": "stdout",
     "output_type": "stream",
     "text": [
      "A+\n",
      "Aggiungo un nuovo key-value...\n",
      "{'Ana': 'B', 'John': 'A+', 'Denise': 'A', 'Katy': 'A', 'Sylvan': 'A'}\n",
      "Controllo se la chiave John è presente...\n",
      "John è una chiave presente\n",
      "Cancella l'elemento di chiave Ana...\n",
      "grades KEYS:  dict_keys(['John', 'Denise', 'Katy', 'Sylvan'])\n",
      "grades VALUES:  dict_values(['A+', 'A', 'A', 'A'])\n",
      "John\n",
      "A+\n",
      "Denise\n",
      "A\n",
      "Katy\n",
      "A\n",
      "Sylvan\n",
      "A\n"
     ]
    }
   ],
   "source": [
    "my_dict = {}\n",
    "\n",
    "grades = {'Ana':'B', 'John':'A+', 'Denise':'A', 'Katy':'A'}\n",
    "\n",
    "print(grades['John'])\n",
    "#grades['Sylvan'] # da errore perchè\n",
    "print(\"Aggiungo un nuovo key-value...\")\n",
    "grades['Sylvan'] = 'A'\n",
    "print(grades)\n",
    "\n",
    "print(\"Controllo se la chiave John è presente...\")\n",
    "if 'John' in grades:\n",
    "    print(\"John è una chiave presente\")\n",
    "\n",
    "print(\"Cancella l'elemento di chiave Ana...\")\n",
    "del(grades['Ana'])\n",
    "\n",
    "print(\"grades KEYS: \", grades.keys())\n",
    "\n",
    "print(\"grades VALUES: \", grades.values())\n",
    "\n",
    "for key, values in grades.items():\n",
    "    print(key)\n",
    "    print(values)\n"
   ]
  },
  {
   "cell_type": "code",
   "execution_count": 2,
   "id": "9af8b455",
   "metadata": {},
   "outputs": [
    {
     "name": "stdout",
     "output_type": "stream",
     "text": [
      "CALL lyrics_to_frequencies\n",
      "lyrics\n",
      "{'she': 20, 'loves': 13, 'you': 36, 'yeah': 28, 'think': 2, \"you've\": 1, 'lost': 2, 'your': 1, 'love': 5, 'well': 1, 'i': 2, 'saw': 1, 'her': 4, 'yesterday-yi-yay': 1, \"it's\": 3, \"she's\": 1, 'thinking': 1, 'of': 1, 'and': 8, 'told': 1, 'me': 1, 'what': 1, 'to': 3, 'say-yi-yay': 1, 'says': 3, 'know': 11, 'that': 7, \"can't\": 3, 'be': 10, 'bad': 3, 'yes': 2, 'should': 7, 'glad': 7, 'said': 1, 'hurt': 2, 'so': 1, 'almost': 1, 'mind': 1, 'now': 1, 'knows': 1, \"you're\": 1, 'not': 1, 'the': 1, 'hurting': 1, 'kind': 1, 'oo': 2, 'with': 4, 'a': 4, 'like': 4, 'up': 1, 'only': 1, 'fair': 1, 'pride': 1, 'can': 1, 'too': 1, 'pologize': 1, 'Because': 1, 'Yes': 1}\n",
      "\n",
      "\n",
      "[(['you'], 36), (['yeah'], 28), (['she'], 20), (['loves'], 13), (['know'], 11), (['be'], 10), (['and'], 8), (['that', 'should', 'glad'], 7), (['love'], 5)]\n"
     ]
    }
   ],
   "source": [
    "#####################################\n",
    "# EXAMPLE: using dictionaries\n",
    "#          counting frequencies of words in song lyrics\n",
    "#####################################\n",
    "\n",
    "\"\"\"\n",
    "Obiettivo: dal testo di una canzone messo come lista di stringhe voglio\n",
    "ottenere una lista di tuple. Ogni tupla una contiene\n",
    "come primo elemento una lista di parole della canzone, mentre\n",
    "il secondo argomento indica la frequenza della lista di parole\n",
    "\n",
    "[(['you'], 36), \n",
    "    (['yeah'], 28), \n",
    "    (['she'], 20), \n",
    "    (['loves'], 13), \n",
    "    (['know'], 11), \n",
    "    (['be'], 10), \n",
    "    (['and'], 8), \n",
    "    (['that', 'should', 'glad'], 7), \n",
    "    (['love'], 5)]\n",
    "\n",
    "\"\"\"\n",
    "\n",
    "    \n",
    "    \n",
    "she_loves_you = ['she', 'loves', 'you', 'yeah', 'yeah', \n",
    "'yeah','she', 'loves', 'you', 'yeah', 'yeah', 'yeah',\n",
    "'she', 'loves', 'you', 'yeah', 'yeah', 'yeah',\n",
    "\n",
    "'you', 'think', \"you've\", 'lost', 'your', 'love',\n",
    "'well', 'i', 'saw', 'her', 'yesterday-yi-yay',\n",
    "\"it's\", 'you', \"she's\", 'thinking', 'of',\n",
    "'and', 'she', 'told', 'me', 'what', 'to', 'say-yi-yay',\n",
    "\n",
    "'she', 'says', 'she', 'loves', 'you',\n",
    "'and', 'you', 'know', 'that', \"can't\", 'be', 'bad',\n",
    "'yes', 'she', 'loves', 'you',\n",
    "'and', 'you', 'know', 'you', 'should', 'be', 'glad',\n",
    "\n",
    "'she', 'said', 'you', 'hurt', 'her', 'so',\n",
    "'she', 'almost', 'lost', 'her', 'mind',\n",
    "'and', 'now', 'she', 'says', 'she', 'knows',\n",
    "\"you're\", 'not', 'the', 'hurting', 'kind',\n",
    "\n",
    "'she', 'says', 'she', 'loves', 'you',\n",
    "'and', 'you', 'know', 'that', \"can't\", 'be', 'bad',\n",
    "'yes', 'she', 'loves', 'you',\n",
    "'and', 'you', 'know', 'you', 'should', 'be', 'glad',\n",
    "\n",
    "'oo', 'she', 'loves', 'you', 'yeah', 'yeah', 'yeah',\n",
    "'she', 'loves', 'you', 'yeah', 'yeah', 'yeah',\n",
    "'with', 'a', 'love', 'like', 'that',\n",
    "'you', 'know', 'you', 'should', 'be', 'glad',\n",
    "\n",
    "'you', 'know', \"it's\", 'up', 'to', 'you',\n",
    "'i', 'think', \"it's\", 'only', 'fair',\n",
    "'pride', 'can', 'hurt', 'you', 'too',\n",
    "'pologize', 'to', 'her',\n",
    "\n",
    "'Because', 'she', 'loves', 'you',\n",
    "'and', 'you', 'know', 'that', \"can't\", 'be', 'bad',\n",
    "'Yes', 'she', 'loves', 'you',\n",
    "'and', 'you', 'know', 'you', 'should', 'be', 'glad',\n",
    "\n",
    "'oo', 'she', 'loves', 'you', 'yeah', 'yeah', 'yeah',\n",
    "'she', 'loves', 'you', 'yeah', 'yeah', 'yeah',\n",
    "'with', 'a', 'love', 'like', 'that',\n",
    "'you', 'know', 'you', 'should', 'be', 'glad',\n",
    "'with', 'a', 'love', 'like', 'that',\n",
    "'you', 'know', 'you', 'should', 'be', 'glad',\n",
    "'with', 'a', 'love', 'like', 'that',\n",
    "'you', 'know', 'you', 'should', 'be', 'glad',\n",
    "'yeah', 'yeah', 'yeah',\n",
    "'yeah', 'yeah', 'yeah', 'yeah'\n",
    "]\n",
    "\n",
    "def lyrics_to_frequencies(lyrics):\n",
    "    \"\"\"\n",
    "        creo un dictionaty con chiave pari alla parola\n",
    "        nel testo della canzone (lyrics) e valore frequenza\n",
    "    \"\"\"\n",
    "    myDict = {}\n",
    "    for word in lyrics:\n",
    "        if word in myDict:\n",
    "            myDict[word] += 1\n",
    "        else:\n",
    "            myDict[word] = 1\n",
    "    return myDict\n",
    "\n",
    "\"\"\"\n",
    "{\n",
    "    'she': 20, \n",
    "    'loves': 13, \n",
    "    'you': 36, \n",
    "    'yeah': 28\n",
    "    ...\n",
    "}\n",
    "\"\"\"\n",
    "print(\"CALL lyrics_to_frequencies\")\n",
    "beatles = lyrics_to_frequencies(she_loves_you)\n",
    "\n",
    "print(\"lyrics\")\n",
    "print(beatles)\n",
    "\n",
    "def most_common_words(freqs):\n",
    "    values = freqs.values() # ottengo la lista di values a partire dal dict freqs\n",
    "    best = max(freqs.values()) # ottengo il max tra la lista di values\n",
    "    words = []\n",
    "    for k in freqs: # itero su tutti i valori del dict, prendendo solo le chiavi del dict\n",
    "        if freqs[k] == best: # se l'elemento corrente con chiave k coincide con \n",
    "                             # il max aggiungo la chiave dell'el del dict alla lista words\n",
    "            words.append(k)\n",
    "            \n",
    "    return (words, best) # ritorna una tupla con la lista di parole (primo el) e freq. (secondo el)\n",
    "                         # e.g., (['she', 'you'], 10)\n",
    "    \n",
    "    \n",
    "    \n",
    "def words_often(freqs, minTimes):\n",
    "    \n",
    "    \"\"\"\n",
    "        Prende in ingresso un dict (freqs) con ['word' : frequency]\n",
    "        e ritorna una lista (result) che è una lista di tuple. \n",
    "        Ogni tupla una contiene come primo elemento una lista di parole della canzone, mentre\n",
    "        il secondo argomento indica la frequenza della lista di parole\n",
    "        L'arg minTimes specifica la freq minima per cui voglio ottenere la lista di parole\n",
    "        della mia canzone\n",
    "    \"\"\"\n",
    "    \n",
    "    result = []\n",
    "    done = False\n",
    "    while not done: # fare il check su freqs se ci sono ancora valori!!!!\n",
    "    # while not done and len(freqs) > 0: # fare il check su freqs se ci sono ancora valori!!!!\n",
    "        temp = most_common_words(freqs) # quello che ottengo è per esempio temp = (['she', 'you'], 10)\n",
    "        if temp[1] >= minTimes: # controllo che la frequenza della lista di parola sia maggiore della soglia e la aggiongo al risultato\n",
    "            result.append(temp)\n",
    "            for w in temp[0]: # una volta aggiunto al risultato cancello dal dizionario di partenza gli elementi (parole) già analizzati\n",
    "                del(freqs[w])  #remove word from dict\n",
    "        else: # se la lista di parole corrente non ha freq minima minTimes ho finito, perchè la chiamata\n",
    "                # a most_common_words mi ordine anche la lista di tuple per freq.\n",
    "            done = True\n",
    "    return result\n",
    "\n",
    "print(\"\\n\")\n",
    "print(words_often(beatles, 5))\n"
   ]
  },
  {
   "cell_type": "code",
   "execution_count": null,
   "id": "c4da0310",
   "metadata": {},
   "outputs": [],
   "source": []
  }
 ],
 "metadata": {
  "kernelspec": {
   "display_name": "Python 3 (ipykernel)",
   "language": "python",
   "name": "python3"
  },
  "language_info": {
   "codemirror_mode": {
    "name": "ipython",
    "version": 3
   },
   "file_extension": ".py",
   "mimetype": "text/x-python",
   "name": "python",
   "nbconvert_exporter": "python",
   "pygments_lexer": "ipython3",
   "version": "3.10.1"
  }
 },
 "nbformat": 4,
 "nbformat_minor": 5
}
