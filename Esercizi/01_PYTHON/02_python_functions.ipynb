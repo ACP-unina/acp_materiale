{
 "cells": [
  {
   "cell_type": "code",
   "execution_count": 7,
   "id": "cfb8f3c7",
   "metadata": {},
   "outputs": [
    {
     "name": "stdout",
     "output_type": "stream",
     "text": [
      "PROVA CON RETURN\n",
      "is_even_with_return(3)\n",
      "with return\n",
      "print(is_even_with_return(3) )\n",
      "with return\n",
      "False\n",
      "\n",
      "\n",
      "\n",
      "\n",
      "PROVA SENZA RETURN\n",
      "without return\n",
      "without return\n",
      "None\n",
      "\n",
      "\n",
      "STAMPARE even e odd nei primi 20 num\n",
      "All numbers between 0 and 20: even or not\n",
      "0 even\n",
      "1 odd\n",
      "2 even\n",
      "3 odd\n",
      "4 even\n",
      "5 odd\n",
      "6 even\n",
      "7 odd\n",
      "8 even\n",
      "9 odd\n",
      "10 even\n",
      "11 odd\n",
      "12 even\n",
      "13 odd\n",
      "14 even\n",
      "15 odd\n",
      "16 even\n",
      "17 odd\n",
      "18 even\n",
      "19 odd\n"
     ]
    }
   ],
   "source": [
    "#########################\n",
    "## EXAMPLE: combinations of print and return\n",
    "## Python Tutor link: http://www.pythontutor.com/visualize.html#code=def%20is_even_with_return(%20i%20%29%3A%0A%20%20%20%20%22%22%22%20%0A%20%20%20%20Input%3A%20i,%20a%20positive%20int%0A%20%20%20%20Returns%20True%20if%20i%20is%20even,%20otherwise%20False%0A%20%20%20%20%22%22%22%0A%20%20%20%20print('with%20return'%29%0A%20%20%20%20remainder%20%3D%20i%20%25%202%0A%20%20%20%20return%20remainder%20%3D%3D%200%0A%0Ais_even_with_return(3%29%20%0Aprint(is_even_with_return(3%29%20%29%0A%0Adef%20is_even_without_return(%20i%20%29%3A%0A%20%20%20%20%22%22%22%20%0A%20%20%20%20Input%3A%20i,%20a%20positive%20int%0A%20%20%20%20Does%20not%20return%20anything%0A%20%20%20%20%22%22%22%0A%20%20%20%20print('without%20return'%29%0A%0Ais_even_without_return(3%29%0Aprint(is_even_without_return(3%29%20%29%0A&cumulative=false&curInstr=0&heapPrimitives=false&mode=display&origin=opt-frontend.js&py=3&rawInputLstJSON=%5B%5D&textReferences=false\n",
    "#########################\n",
    "def is_even_with_return( i ):\n",
    "    \"\"\" \n",
    "    Input: i, a positive int\n",
    "    Returns True if i is even, otherwise False\n",
    "    \"\"\"\n",
    "    print('with return')\n",
    "    remainder = i % 2\n",
    "    return remainder == 0\n",
    "\n",
    "print(\"PROVA CON RETURN\")\n",
    "print(\"is_even_with_return(3)\")\n",
    "is_even_with_return(3) \n",
    "print(\"print(is_even_with_return(3) )\")\n",
    "print(is_even_with_return(3) )\n",
    "\n",
    "print (\"\\n\")\n",
    "\n",
    "def is_even_without_return( i ):\n",
    "    \"\"\" \n",
    "    Input: i, a positive int\n",
    "    Does not return anything\n",
    "    \"\"\"\n",
    "    print('without return')\n",
    "    remainder = i % 2\n",
    "\n",
    "print (\"\\n\")\n",
    "print(\"PROVA SENZA RETURN\")\n",
    "is_even_without_return(3)\n",
    "print(is_even_without_return(3) )\n",
    "\n",
    "# Simple is_even function definition\n",
    "def is_even( i ):\n",
    "    \"\"\" \n",
    "    Input: i, a positive int\n",
    "    Returns True if i is even, otherwise False\n",
    "    \"\"\"\n",
    "    remainder = i % 2\n",
    "    return remainder == 0\n",
    "\n",
    "print (\"\\n\")\n",
    "print(\"STAMPARE even e odd nei primi 20 num\")\n",
    "# Use the is_even function later on in the code\n",
    "print(\"All numbers between 0 and 20: even or not\")\n",
    "for i in range(20):\n",
    "    if is_even(i):\n",
    "        print(i, \"even\")\n",
    "    else:\n",
    "        print(i, \"odd\")"
   ]
  },
  {
   "cell_type": "code",
   "execution_count": 6,
   "id": "1249f254",
   "metadata": {},
   "outputs": [
    {
     "name": "stdout",
     "output_type": "stream",
     "text": [
      "0.998046875 is close to cube root of 1\n",
      "2.154541015625 is close to cube root of 10\n",
      "4.6417236328125 is close to cube root of 100\n",
      "9.999990463256836 is close to cube root of 1000\n",
      "21.54434099793434 is close to cube root of 10000\n"
     ]
    }
   ],
   "source": [
    "#########################\n",
    "## EXAMPLE: applying functions to repeat same task many times\n",
    "#########################\n",
    "def bisection_cuberoot_approx(x, epsilon):\n",
    "    \"\"\"\n",
    "    Input: x, an integer\n",
    "    Uses bisection to approximate the cube root of x to within epsilon\n",
    "    Returns: a float approximating the cube root of x\n",
    "    \"\"\"\n",
    "    low = 0.0\n",
    "    high = x\n",
    "    guess = (high + low)/2.0\n",
    "    while abs(guess**3 - x) >= epsilon:\n",
    "        if guess**3 < x:\n",
    "            low = guess\n",
    "        else:\n",
    "            high = guess\n",
    "        guess = (high + low)/2.0\n",
    "    return guess\n",
    "\n",
    "x = 1\n",
    "while x <= 10000:\n",
    "    approx = bisection_cuberoot_approx(x, 0.01)\n",
    "    print(approx, \"is close to cube root of\", x)\n",
    "    x *= 10\n",
    "\n",
    "\n"
   ]
  },
  {
   "cell_type": "code",
   "execution_count": 7,
   "id": "f662b079",
   "metadata": {},
   "outputs": [
    {
     "name": "stdout",
     "output_type": "stream",
     "text": [
      "inside func_a\n",
      "None\n",
      "inside func_b\n",
      "7\n",
      "inside func_c\n",
      "inside func_a\n",
      "None\n"
     ]
    }
   ],
   "source": [
    "#########################\n",
    "## EXAMPLE: functions as arguments\n",
    "## Python Tutor link: http://www.pythontutor.com/visualize.html#code=def%20func_a(%29%3A%0A%20%20%20%20print('inside%20func_a'%29%0A%0Adef%20func_b(y%29%3A%0A%20%20%20%20print('inside%20func_b'%29%0A%20%20%20%20return%20y%0A%0Adef%20func_c(z%29%3A%0A%20%20%20%20print('inside%20func_c'%29%0A%20%20%20%20return%20z(%29%0A%0Aprint(func_a(%29%29%0Aprint(5%2Bfunc_b(2%29%29%0Aprint(func_c(func_a%29%29%0A&cumulative=false&curInstr=0&heapPrimitives=false&mode=display&origin=opt-frontend.js&py=3&rawInputLstJSON=%5B%5D&textReferences=false\n",
    "#########################\n",
    "def func_a():\n",
    "    print('inside func_a')\n",
    "\n",
    "def func_b(y):\n",
    "    print('inside func_b')\n",
    "    return y\n",
    "\n",
    "def func_c(z):\n",
    "    print('inside func_c')\n",
    "    return z()\n",
    "\n",
    "print(func_a())\n",
    "print(5+func_b(2))\n",
    "print(func_c(func_a))\n",
    "\n",
    "\n"
   ]
  },
  {
   "cell_type": "code",
   "execution_count": 1,
   "id": "a0b0b8be",
   "metadata": {},
   "outputs": [
    {
     "name": "stdout",
     "output_type": "stream",
     "text": [
      "7\n"
     ]
    }
   ],
   "source": [
    "#########################\n",
    "## EXAMPLE: returning function objects\n",
    "## Python Tutor link: http://www.pythontutor.com/visualize.html#code=def%20f(%29%3A%0A%20%20%20%20def%20x(a,%20b%29%3A%0A%20%20%20%20%20%20%20%20return%20a%2Bb%0A%20%20%20%20return%20x%0A%20%20%20%20%0Aval%20%3D%20f(%29(3,4%29%0Aprint(val%29%0A&cumulative=false&curInstr=0&heapPrimitives=false&mode=display&origin=opt-frontend.js&py=3&rawInputLstJSON=%5B%5D&textReferences=false\n",
    "#########################\n",
    "def f():\n",
    "    def x(a, b):\n",
    "        return a+b\n",
    "    return x\n",
    "    \n",
    "# the first part, f(), returns a function object\n",
    "# then apply that function with parameters 3 and 4\n",
    "val = f()(3,4)\n",
    "print(val)\n",
    "\n",
    "\n",
    "\n"
   ]
  },
  {
   "cell_type": "code",
   "execution_count": 9,
   "id": "c8c948f0",
   "metadata": {},
   "outputs": [
    {
     "name": "stdout",
     "output_type": "stream",
     "text": [
      "2\n",
      "5\n",
      "\n",
      "\n",
      "5\n",
      "6\n",
      "5\n",
      "\n",
      "\n"
     ]
    },
    {
     "ename": "UnboundLocalError",
     "evalue": "local variable 'x' referenced before assignment",
     "output_type": "error",
     "traceback": [
      "\u001b[0;31m---------------------------------------------------------------------------\u001b[0m",
      "\u001b[0;31mUnboundLocalError\u001b[0m                         Traceback (most recent call last)",
      "\u001b[1;32m/Users/ldesi/Library/CloudStorage/OneDrive-UniversitàdiNapoliFedericoII/Teaching/2023_2024/ACP/Esercizi/PYTHON/02_python_functions.ipynb Cell 5\u001b[0m line \u001b[0;36m2\n\u001b[1;32m     <a href='vscode-notebook-cell:/Users/ldesi/Library/CloudStorage/OneDrive-Universit%C3%A0diNapoliFedericoII/Teaching/2023_2024/ACP/Esercizi/PYTHON/02_python_functions.ipynb#W4sZmlsZQ%3D%3D?line=25'>26</a>\u001b[0m     x \u001b[39m=\u001b[39m x \u001b[39m+\u001b[39m \u001b[39m1\u001b[39m \u001b[39m#leads to an error without line `global x` inside h\u001b[39;00m\n\u001b[1;32m     <a href='vscode-notebook-cell:/Users/ldesi/Library/CloudStorage/OneDrive-Universit%C3%A0diNapoliFedericoII/Teaching/2023_2024/ACP/Esercizi/PYTHON/02_python_functions.ipynb#W4sZmlsZQ%3D%3D?line=26'>27</a>\u001b[0m x \u001b[39m=\u001b[39m \u001b[39m5\u001b[39m\n\u001b[0;32m---> <a href='vscode-notebook-cell:/Users/ldesi/Library/CloudStorage/OneDrive-Universit%C3%A0diNapoliFedericoII/Teaching/2023_2024/ACP/Esercizi/PYTHON/02_python_functions.ipynb#W4sZmlsZQ%3D%3D?line=27'>28</a>\u001b[0m h(x)\n\u001b[1;32m     <a href='vscode-notebook-cell:/Users/ldesi/Library/CloudStorage/OneDrive-Universit%C3%A0diNapoliFedericoII/Teaching/2023_2024/ACP/Esercizi/PYTHON/02_python_functions.ipynb#W4sZmlsZQ%3D%3D?line=28'>29</a>\u001b[0m \u001b[39mprint\u001b[39m(x)\n",
      "\u001b[1;32m/Users/ldesi/Library/CloudStorage/OneDrive-UniversitàdiNapoliFedericoII/Teaching/2023_2024/ACP/Esercizi/PYTHON/02_python_functions.ipynb Cell 5\u001b[0m line \u001b[0;36m2\n\u001b[1;32m     <a href='vscode-notebook-cell:/Users/ldesi/Library/CloudStorage/OneDrive-Universit%C3%A0diNapoliFedericoII/Teaching/2023_2024/ACP/Esercizi/PYTHON/02_python_functions.ipynb#W4sZmlsZQ%3D%3D?line=23'>24</a>\u001b[0m \u001b[39mdef\u001b[39;00m \u001b[39mh\u001b[39m(y):\n\u001b[1;32m     <a href='vscode-notebook-cell:/Users/ldesi/Library/CloudStorage/OneDrive-Universit%C3%A0diNapoliFedericoII/Teaching/2023_2024/ACP/Esercizi/PYTHON/02_python_functions.ipynb#W4sZmlsZQ%3D%3D?line=24'>25</a>\u001b[0m     \u001b[39m#pass\u001b[39;00m\n\u001b[0;32m---> <a href='vscode-notebook-cell:/Users/ldesi/Library/CloudStorage/OneDrive-Universit%C3%A0diNapoliFedericoII/Teaching/2023_2024/ACP/Esercizi/PYTHON/02_python_functions.ipynb#W4sZmlsZQ%3D%3D?line=25'>26</a>\u001b[0m     x \u001b[39m=\u001b[39m x \u001b[39m+\u001b[39m \u001b[39m1\u001b[39m\n",
      "\u001b[0;31mUnboundLocalError\u001b[0m: local variable 'x' referenced before assignment"
     ]
    }
   ],
   "source": [
    "#########################\n",
    "## EXAMPLE: shows accessing variables outside scope\n",
    "#########################\n",
    "\n",
    "def f(y):\n",
    "    x = 1\n",
    "    x += 1\n",
    "    print(x)\n",
    "x = 5\n",
    "f(x)\n",
    "print(x)\n",
    "print(\"\\n\")\n",
    "\n",
    "def g(y):\n",
    "    print(x)\n",
    "    print(x+1)\n",
    "\n",
    "x = 5\n",
    "g(x)\n",
    "print(x)\n",
    "\n",
    "print(\"\\n\")\n",
    "\n",
    "def h(y):\n",
    "    #pass\n",
    "    x = x + 1 #leads to an error without line `global x` inside h\n",
    "x = 5\n",
    "h(x)\n",
    "print(x)\n",
    "\n",
    "\n"
   ]
  },
  {
   "cell_type": "code",
   "execution_count": 13,
   "id": "07937b70",
   "metadata": {},
   "outputs": [
    {
     "name": "stdout",
     "output_type": "stream",
     "text": [
      "in g(x): x = 4\n"
     ]
    }
   ],
   "source": [
    "#########################\n",
    "## EXAMPLE: hader scope example from slides\n",
    "## Python Tutor link: http://www.pythontutor.com/visualize.html#code=def%20g(x%29%3A%0A%20%20%20%20def%20h(%29%3A%0A%20%20%20%20%20%20%20%20x%20%3D%20'abc'%0A%20%20%20%20x%20%3D%20x%20%2B%201%0A%20%20%20%20print('in%20g(x%29%3A%20x%20%3D',%20x%29%0A%20%20%20%20h(%29%0A%20%20%20%20return%20x%0A%0Ax%20%3D%203%0Az%20%3D%20g(x%29&cumulative=false&curInstr=0&heapPrimitives=false&mode=display&origin=opt-frontend.js&py=3&rawInputLstJSON=%5B%5D&textReferences=false\n",
    "#########################\n",
    "def g(x):\n",
    "    def h():\n",
    "        x = 'abc'\n",
    "    x = x + 1\n",
    "    print('in g(x): x =', x)\n",
    "    h()\n",
    "    return x\n",
    "\n",
    "x = 3\n",
    "z = g(x)\n",
    "\n",
    "\n"
   ]
  },
  {
   "cell_type": "code",
   "execution_count": 14,
   "id": "85371460",
   "metadata": {},
   "outputs": [
    {
     "name": "stdout",
     "output_type": "stream",
     "text": [
      "in f(x): x = 4\n",
      "in main program scope: z = 4\n",
      "in main program scope: x = 3\n",
      "in g(x): x =  4\n",
      "in h(x): x =  5\n",
      "in main program scope: x =  3\n",
      "in main program scope: z =  4\n"
     ]
    }
   ],
   "source": [
    "#########################\n",
    "## EXAMPLE: complicated scope, test yourself!\n",
    "## Python Tutor link: http://www.pythontutor.com/visualize.html#code=def%20f(x%29%3A%0A%20%20%20x%20%3D%20x%20%2B%201%0A%20%20%20print('in%20f(x%29%3A%20x%20%3D',%20x%29%0A%20%20%20return%20x%0A%0Ax%20%3D%203%0Az%20%3D%20f(x%29%0Aprint('in%20main%20program%20scope%3A%20z%20%3D',%20z%29%0Aprint('in%20main%20program%20scope%3A%20x%20%3D',%20x%29%0A%0Adef%20g(x%29%3A%0A%20%20%20%20def%20h(x%29%3A%0A%20%20%20%20%20%20%20%20x%20%3D%20x%2B1%0A%20%20%20%20%20%20%20%20print(%22in%20h(x%29%3A%20x%20%3D%20%22,%20x%29%0A%20%20%20%20x%20%3D%20x%20%2B%201%0A%20%20%20%20print('in%20g(x%29%3A%20x%20%3D%20',%20x%29%0A%20%20%20%20h(x%29%0A%20%20%20%20return%20x%0A%0Ax%20%3D%203%0Az%20%3D%20g(x%29%0Aprint('in%20main%20program%20scope%3A%20x%20%3D%20',%20x%29%0Aprint('in%20main%20program%20scope%3A%20z%20%3D%20',%20z%29%0A&cumulative=false&curInstr=0&heapPrimitives=false&mode=display&origin=opt-frontend.js&py=3&rawInputLstJSON=%5B%5D&textReferences=false\n",
    "#########################\n",
    "def f(x):\n",
    "   x = x + 1\n",
    "   print('in f(x): x =', x)\n",
    "   return x\n",
    "\n",
    "x = 3\n",
    "z = f(x)\n",
    "print('in main program scope: z =', z)\n",
    "print('in main program scope: x =', x)\n",
    "\n",
    "def g(x):\n",
    "    def h(x):\n",
    "        x = x+1\n",
    "        print(\"in h(x): x = \", x)\n",
    "    x = x + 1\n",
    "    print('in g(x): x = ', x)\n",
    "    h(x)\n",
    "    return x\n",
    "\n",
    "x = 3\n",
    "z = g(x)\n",
    "print('in main program scope: x = ', x)\n",
    "print('in main program scope: z = ', z)\n"
   ]
  },
  {
   "cell_type": "code",
   "execution_count": 3,
   "id": "d044b2b6",
   "metadata": {},
   "outputs": [
    {
     "name": "stdout",
     "output_type": "stream",
     "text": [
      "[0, 1]\n"
     ]
    }
   ],
   "source": [
    "def spam(eggs):\n",
    "    eggs.append(1) # modifico ham che è passato per riferimento\n",
    "    eggs = [2, 3] # qui creo un nuovo bind che non si riflette però sulla variabile ham\n",
    "\n",
    "ham = [0]\n",
    "spam(ham)\n",
    "print(ham)"
   ]
  },
  {
   "cell_type": "code",
   "execution_count": 10,
   "id": "b93f710a",
   "metadata": {},
   "outputs": [
    {
     "name": "stdout",
     "output_type": "stream",
     "text": [
      "[main] ref:  0x103870210\n",
      "<class 'int'>\n",
      "[main] lista ref:  0x106c49680\n",
      "10 [0]\n",
      "[fun_x] ref:  0x103870210\n",
      "[fun_x] ref dopo rebind:  0x103870230\n",
      "[fun_ref] lista ref:  0x106c49680\n",
      "[fun_ref] lista ref after rebind:  0x10f12c800\n",
      "10 [3, 4]\n",
      "[main] x ref 0x103870210\n",
      "[main] lista ref 0x10f12c800\n"
     ]
    }
   ],
   "source": [
    "def fun(x):\n",
    "    print(\"[fun_x] ref: \", hex(id(x)))\n",
    "    x =  x + 1\n",
    "    print(\"[fun_x] ref dopo rebind: \", hex(id(x)))\n",
    "\n",
    "def fun_ref():\n",
    "    global lista\n",
    "    lista.append('1')\n",
    "    print(\"[fun_ref] lista ref: \", hex(id(lista)))\n",
    "    lista = [3, 4]\n",
    "    print(\"[fun_ref] lista ref after rebind: \", hex(id(lista)))\n",
    "\n",
    "x = 10\n",
    "print(\"[main] ref: \", hex(id(x)))\n",
    "lista = [0]\n",
    "print(type(x))\n",
    "print(\"[main] lista ref: \", hex(id(lista)))\n",
    "print(x, lista)\n",
    "fun(x)\n",
    "fun_ref()\n",
    "print(x, lista)\n",
    "print(\"[main] x ref\", hex(id(x)))\n",
    "print(\"[main] lista ref\", hex(id(lista)))"
   ]
  },
  {
   "cell_type": "code",
   "execution_count": 11,
   "id": "a57e09b6",
   "metadata": {},
   "outputs": [
    {
     "name": "stdout",
     "output_type": "stream",
     "text": [
      "[fun] Before call [global scope]\t x value:  10  x ref:  0x103870210\n"
     ]
    },
    {
     "ename": "TypeError",
     "evalue": "fun() takes 0 positional arguments but 1 was given",
     "output_type": "error",
     "traceback": [
      "\u001b[0;31m---------------------------------------------------------------------------\u001b[0m",
      "\u001b[0;31mTypeError\u001b[0m                                 Traceback (most recent call last)",
      "Cell \u001b[0;32mIn[11], line 15\u001b[0m\n\u001b[1;32m     13\u001b[0m x \u001b[38;5;241m=\u001b[39m \u001b[38;5;241m10\u001b[39m\n\u001b[1;32m     14\u001b[0m \u001b[38;5;28mprint\u001b[39m(\u001b[38;5;124m\"\u001b[39m\u001b[38;5;124m[fun] Before call [global scope]\u001b[39m\u001b[38;5;130;01m\\t\u001b[39;00m\u001b[38;5;124m x value: \u001b[39m\u001b[38;5;124m\"\u001b[39m, x, \u001b[38;5;124m\"\u001b[39m\u001b[38;5;124m x ref: \u001b[39m\u001b[38;5;124m\"\u001b[39m, \u001b[38;5;28mhex\u001b[39m(\u001b[38;5;28mid\u001b[39m(x)))\n\u001b[0;32m---> 15\u001b[0m \u001b[43mfun\u001b[49m\u001b[43m(\u001b[49m\u001b[43mx\u001b[49m\u001b[43m)\u001b[49m;  \n\u001b[1;32m     16\u001b[0m \u001b[38;5;28mprint\u001b[39m(\u001b[38;5;124m\"\u001b[39m\u001b[38;5;124m[fun] After call [global scope]\u001b[39m\u001b[38;5;130;01m\\t\u001b[39;00m\u001b[38;5;124m x value: \u001b[39m\u001b[38;5;124m\"\u001b[39m, x, \u001b[38;5;124m\"\u001b[39m\u001b[38;5;124m x ref: \u001b[39m\u001b[38;5;124m\"\u001b[39m, \u001b[38;5;28mhex\u001b[39m(\u001b[38;5;28mid\u001b[39m(x)))\n\u001b[1;32m     18\u001b[0m \u001b[38;5;28mprint\u001b[39m(\u001b[38;5;124m\"\u001b[39m\u001b[38;5;124m[fun] Before call [global scope]\u001b[39m\u001b[38;5;130;01m\\t\u001b[39;00m\u001b[38;5;124m x value: \u001b[39m\u001b[38;5;124m\"\u001b[39m, x, \u001b[38;5;124m\"\u001b[39m\u001b[38;5;124m x ref: \u001b[39m\u001b[38;5;124m\"\u001b[39m, \u001b[38;5;28mhex\u001b[39m(\u001b[38;5;28mid\u001b[39m(x)))\n",
      "\u001b[0;31mTypeError\u001b[0m: fun() takes 0 positional arguments but 1 was given"
     ]
    }
   ],
   "source": [
    "def fun2(x): \n",
    "    \n",
    "    x = x + 1\n",
    "    print(\"[fun scope]\\t\\t\\t x value: \", x, \" x ref: \", hex(id(x))) # id è una funzione che stampa la ref. di un oggetto\n",
    "    return \n",
    "\n",
    "def fun(x): \n",
    "    global x\n",
    "    x = x + 1\n",
    "    print(\"[fun scope]\\t\\t\\t x value: \", x, \" x ref: \", hex(id(x))) # id è una funzione che stampa la ref. di un oggetto\n",
    "    return \n",
    "\n",
    "x = 10\n",
    "print(\"[fun] Before call [global scope]\\t x value: \", x, \" x ref: \", hex(id(x)))\n",
    "fun(x);  \n",
    "print(\"[fun] After call [global scope]\\t x value: \", x, \" x ref: \", hex(id(x)))\n",
    "\n",
    "print(\"[fun] Before call [global scope]\\t x value: \", x, \" x ref: \", hex(id(x)))\n",
    "fun2(x);  \n",
    "print(\"[fun] After call [global scope]\\t x value: \", x, \" x ref: \", hex(id(x)))\n",
    "\n"
   ]
  },
  {
   "cell_type": "code",
   "execution_count": 24,
   "id": "72d58d7c",
   "metadata": {},
   "outputs": [
    {
     "name": "stdout",
     "output_type": "stream",
     "text": [
      "Values inside the function:  [1, 2, 3, 4]\n",
      "Values outside the function:  [10, 20, 30]\n"
     ]
    }
   ],
   "source": [
    "def changeme( mylist ): \n",
    "    #This changes a passed list\"\n",
    "\tmylist = [1,2,3,4]; \n",
    "\tprint(\"Values inside the function: \", mylist) \n",
    "\treturn \n",
    "\n",
    "mylist = [10,20,30]; \n",
    "changeme( mylist ); \n",
    "print(\"Values outside the function: \", mylist)\n"
   ]
  },
  {
   "cell_type": "code",
   "execution_count": null,
   "id": "d037c4cd",
   "metadata": {},
   "outputs": [],
   "source": []
  }
 ],
 "metadata": {
  "kernelspec": {
   "display_name": "Python 3 (ipykernel)",
   "language": "python",
   "name": "python3"
  },
  "language_info": {
   "codemirror_mode": {
    "name": "ipython",
    "version": 3
   },
   "file_extension": ".py",
   "mimetype": "text/x-python",
   "name": "python",
   "nbconvert_exporter": "python",
   "pygments_lexer": "ipython3",
   "version": "3.10.1"
  }
 },
 "nbformat": 4,
 "nbformat_minor": 5
}
