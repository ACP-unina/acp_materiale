{
 "cells": [
  {
   "cell_type": "code",
   "execution_count": null,
   "id": "1a74df26",
   "metadata": {},
   "outputs": [],
   "source": [
    "#Creazione di una Series, indice di default (0)\n",
    "\n",
    "import pandas as pd\n",
    "grades = pd.Series([87, 100, 94])\n",
    "grades"
   ]
  },
  {
   "cell_type": "code",
   "execution_count": null,
   "id": "b1706d14",
   "metadata": {},
   "outputs": [],
   "source": [
    "#Creazione di una Series, con tutti gli el. uguali ad un valore\n",
    "\n",
    "pd.Series(98.6, range(3))"
   ]
  },
  {
   "cell_type": "code",
   "execution_count": null,
   "id": "455c4f05",
   "metadata": {},
   "outputs": [],
   "source": [
    "# accesso agli el di una Series\n",
    "grades[0]"
   ]
  },
  {
   "cell_type": "code",
   "execution_count": null,
   "id": "42b2335e",
   "metadata": {},
   "outputs": [],
   "source": [
    "# Statistica descrittiva di una Series. Oltre ad utilizzare le classiche funzioni \n",
    "# mean(), min(), max(), std(), etc. è possibile utilizzare describe()\n",
    "\n",
    "grades.describe()"
   ]
  },
  {
   "cell_type": "code",
   "execution_count": null,
   "id": "f4d858af",
   "metadata": {},
   "outputs": [],
   "source": [
    "# Creazione di una Series, indice custom\n",
    "\n",
    "grades = pd.Series([87, 100, 94], index=['Wally', 'Eva', 'Sam'])\n",
    "grades"
   ]
  },
  {
   "cell_type": "code",
   "execution_count": null,
   "id": "87d90d51",
   "metadata": {},
   "outputs": [],
   "source": [
    "# Creazione di una Series, inizializzata con un dict\n",
    "\n",
    "grades = pd.Series({'Wally': 87, 'Eva': 100, 'Sam': 94})\n",
    "grades"
   ]
  },
  {
   "cell_type": "code",
   "execution_count": null,
   "id": "bc31a4e4",
   "metadata": {},
   "outputs": [],
   "source": [
    "# accesso agli el di una series con indice custom\n",
    "grades['Eva']"
   ]
  },
  {
   "cell_type": "code",
   "execution_count": null,
   "id": "f3776a32",
   "metadata": {},
   "outputs": [],
   "source": [
    "# accesso agli el di una series con indice custom\n",
    "grades.Wally"
   ]
  },
  {
   "cell_type": "code",
   "execution_count": null,
   "id": "e0790b0d",
   "metadata": {},
   "outputs": [],
   "source": [
    "# accesso agli el di una series con indice custom\n",
    "grades.values"
   ]
  },
  {
   "cell_type": "code",
   "execution_count": null,
   "id": "190df1bd",
   "metadata": {},
   "outputs": [],
   "source": [
    "# Creazione di una Series di stringhe e manipolazione\n",
    "hardware = pd.Series(['Hammer', 'Saw', 'Wrench'])\n",
    "hardware"
   ]
  },
  {
   "cell_type": "code",
   "execution_count": null,
   "id": "2eb23dcc",
   "metadata": {},
   "outputs": [],
   "source": [
    "hardware.str.contains('a')"
   ]
  },
  {
   "cell_type": "code",
   "execution_count": null,
   "id": "e6c2f01a",
   "metadata": {},
   "outputs": [],
   "source": [
    "hardware.str.upper()"
   ]
  }
 ],
 "metadata": {
  "kernelspec": {
   "display_name": "Python 3 (ipykernel)",
   "language": "python",
   "name": "python3"
  },
  "language_info": {
   "codemirror_mode": {
    "name": "ipython",
    "version": 3
   },
   "file_extension": ".py",
   "mimetype": "text/x-python",
   "name": "python",
   "nbconvert_exporter": "python",
   "pygments_lexer": "ipython3",
   "version": "3.9.6"
  }
 },
 "nbformat": 4,
 "nbformat_minor": 5
}
