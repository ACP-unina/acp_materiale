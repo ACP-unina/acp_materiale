{
 "cells": [
  {
   "cell_type": "code",
   "execution_count": null,
   "id": "63e54177",
   "metadata": {},
   "outputs": [],
   "source": [
    "### Uso di matplotlib, figura e assi\n",
    "from matplotlib import pyplot as plt\n",
    "import numpy as np\n",
    "\n",
    "plt.style.use('seaborn-v0_8-whitegrid')\n",
    "\n",
    "fig = plt.figure()\n",
    "ax = plt.axes()\n"
   ]
  },
  {
   "cell_type": "code",
   "execution_count": null,
   "id": "9f1d9246",
   "metadata": {},
   "outputs": [],
   "source": [
    "# semplice plot\n",
    "\n",
    "fig = plt.figure()\n",
    "ax = plt.axes()\n",
    "\n",
    "x = np.linspace(0, 10, 1000)\n",
    "ax.plot(x, np.sin(x));"
   ]
  },
  {
   "cell_type": "code",
   "execution_count": null,
   "id": "8753173d",
   "metadata": {},
   "outputs": [],
   "source": [
    "# Lets add a title and labels to the plot\n",
    "\n",
    "fig = plt.figure()\n",
    "ax = plt.axes()\n",
    "\n",
    "x = np.linspace(0, 10, 1000)\n",
    "ax.plot(x, np.sin(x))\n",
    "ax.set_title('Simple Plot')       # Add a title\n",
    "ax.set_xlabel('x label')          # Add x label\n",
    "ax.set_ylabel('y label');         # Add y label"
   ]
  },
  {
   "cell_type": "code",
   "execution_count": null,
   "id": "29b3a5cb",
   "metadata": {},
   "outputs": [],
   "source": [
    "# Lets add a title to the plot above, multiple lines\n",
    "fig = plt.figure()\n",
    "ax = plt.axes()\n",
    "\n",
    "x = np.linspace(0, 10, 1000)\n",
    "ax.plot(x, np.sin(x))\n",
    "ax.plot(x, np.cos(x))\n",
    "ax.set_title('Multiple Lines');\n",
    "ax.set_xlabel('x label')          \n",
    "ax.set_ylabel('y label')         \n",
    "plt.show() # display all open figures"
   ]
  },
  {
   "cell_type": "code",
   "execution_count": null,
   "id": "3bb98da4",
   "metadata": {},
   "outputs": [],
   "source": [
    "## Aggiungere la legenda\n",
    "fig = plt.figure()\n",
    "ax = plt.axes()\n",
    "\n",
    "x = np.linspace(0, 10, 1000)\n",
    "ax.plot(x, np.sin(x), label = 'sin')\n",
    "ax.plot(x, np.cos(x), label = 'cos')\n",
    "ax.set_title('Multiple Lines');\n",
    "ax.set_xlabel('x label')          \n",
    "ax.set_ylabel('y label')\n",
    "ax.legend()\n",
    "#ax.legend(loc=2)           \n",
    "plt.show()"
   ]
  },
  {
   "cell_type": "code",
   "execution_count": null,
   "id": "fffaabf7",
   "metadata": {},
   "outputs": [],
   "source": [
    "## Aggiungere il colore alle linee dei plot\n",
    "\n",
    "fig = plt.figure()\n",
    "ax = plt.axes()\n",
    "\n",
    "x = np.linspace(0, 10, 1000)\n",
    "ax.plot(x, np.sin(x), label = 'sin', color = 'red')   # specify color by name\n",
    "ax.plot(x, np.cos(x), label = 'cos', color = 'g')    # short color code (rgbcmyk)\n",
    "ax.set_title('Multiple Lines');\n",
    "ax.set_xlabel('x label')          \n",
    "ax.set_ylabel('y label')\n",
    "ax.legend();     "
   ]
  },
  {
   "cell_type": "code",
   "execution_count": null,
   "id": "34293575",
   "metadata": {},
   "outputs": [],
   "source": [
    "### modificare lo stile delle linee\n",
    "\n",
    "fig = plt.figure()\n",
    "ax = plt.axes()\n",
    "#ax.grid(linestyle = '--')\n",
    "\n",
    "x = np.linspace(0, 10, 1000)\n",
    "ax.plot(x, np.sin(x), label = 'sin', linestyle = 'dashed')   \n",
    "ax.plot(x, np.cos(x), label = 'cos', linestyle = 'dotted')\n",
    "ax.plot(x, np.sin(x+1), label = 'cos', linestyle = 'dashdot')\n",
    "ax.set_title('Multiple Lines');\n",
    "ax.set_xlabel('x label')          \n",
    "ax.set_ylabel('y label')\n",
    "ax.legend();"
   ]
  },
  {
   "cell_type": "code",
   "execution_count": null,
   "id": "c9e1aab3",
   "metadata": {},
   "outputs": [],
   "source": [
    "### Aggiungere un limite agli assi\n",
    "\n",
    "fig = plt.figure()\n",
    "ax = plt.axes()\n",
    "\n",
    "x = np.linspace(0, 10, 1000)\n",
    "ax.plot(x, np.sin(x))\n",
    "\n",
    "ax.set_xlim(-5, 15)\n",
    "ax.set_ylim(-3, 3)"
   ]
  },
  {
   "cell_type": "code",
   "execution_count": null,
   "id": "d9c67dea",
   "metadata": {},
   "outputs": [],
   "source": [
    "## subplotting\n",
    "fig, axs = plt.subplots(2, 2, figsize=(10,6)) # a figure with a 2x2 grid of Axes\n",
    "x = np.linspace(0, 10, 1000)\n",
    "\n",
    "axs[0,0].plot(x, np.sin(x))\n",
    "\n",
    "axs[0,1].plot(x, np.cos(x), color = 'maroon')\n",
    "\n",
    "axs[1,0].plot(x, np.sin(x+2), color = 'blue')\n",
    "\n",
    "axs[1,1].plot(x, np.sin(x+4), color = 'green');"
   ]
  },
  {
   "cell_type": "code",
   "execution_count": null,
   "id": "a957ff67",
   "metadata": {},
   "outputs": [],
   "source": [
    "##### SCATTER PLOTS\n",
    "## Note: plt.plot should be preferred over plt.scatter for large datasets.\n",
    "## uso di scatter()\n",
    "x = np.random.randn(20)\n",
    "y = np.random.randn(20)\n",
    "\n",
    "fig, ax = plt.subplots()\n",
    "ax.scatter(x, y);"
   ]
  },
  {
   "cell_type": "code",
   "execution_count": null,
   "id": "2e42a2d8",
   "metadata": {},
   "outputs": [],
   "source": [
    "## aggiungere i marker\n",
    "\n",
    "fig, ax = plt.subplots()        # a figure with a single Axes\n",
    "ax.scatter(x, y, marker = 'x');"
   ]
  },
  {
   "cell_type": "code",
   "execution_count": null,
   "id": "eccf61cb",
   "metadata": {},
   "outputs": [],
   "source": [
    "## uso misto di subplot, marker, etc.\n",
    "## ref. https://matplotlib.org/stable/api/markers_api.html#module-matplotlib.markers\n",
    "\n",
    "fig, axs = plt.subplots(2, 3, sharex=True, sharey=True, figsize=(16,12));\n",
    "\n",
    "# marker symbol\n",
    "axs[0, 0].scatter(x, y, s=80, marker=\">\")\n",
    "axs[0, 0].set_title(\"marker='>'\")\n",
    "# marker from TeX\n",
    "axs[0, 1].scatter(x, y, s=80, marker=r'$\\alpha$')\n",
    "axs[0, 1].set_title(r\"marker='$\\alpha$'\")\n",
    "\n",
    "# marker from path\n",
    "verts = [[-1, -1], [1, -1], [1, 1], [-1, -1]]\n",
    "axs[0, 2].scatter(x, y, s=80, marker=verts)\n",
    "axs[0, 2].set_title(\"marker=verts\")\n",
    "\n",
    "# regular polygon marker\n",
    "axs[1, 0].scatter(x, y, s=80, marker=(5, 0))\n",
    "axs[1, 0].set_title(\"marker=(5, 0)\")\n",
    "\n",
    "# regular star marker\n",
    "axs[1, 1].scatter(x, y, s=80, marker=(5, 1))\n",
    "axs[1, 1].set_title(\"marker=(5, 1)\")\n",
    "\n",
    "# regular asterisk marker\n",
    "axs[1, 2].scatter(x, y, s=80, marker=(5, 2))\n",
    "axs[1, 2].set_title(\"marker=(5, 2)\");"
   ]
  },
  {
   "cell_type": "code",
   "execution_count": null,
   "id": "e591af1b",
   "metadata": {},
   "outputs": [],
   "source": [
    "### uso di palette di color\n",
    "### colormap ref: https://matplotlib.org/stable/gallery/color/colormap_reference.html\n",
    "\n",
    "plt.style.use('seaborn-v0_8-darkgrid')\n",
    "\n",
    "z1 = np.sqrt(x**2 + y**2)\n",
    "\n",
    "fig, ax = plt.subplots()\n",
    "pos = ax.scatter(x, y, c=z1, cmap='cool', marker='3')\n",
    "\n",
    "fig.colorbar(pos);"
   ]
  },
  {
   "cell_type": "code",
   "execution_count": null,
   "id": "a6956c11",
   "metadata": {},
   "outputs": [],
   "source": [
    "# different size for the markers and blending value\n",
    "\n",
    "x = np.random.randn(100)\n",
    "y = np.random.randn(100)\n",
    "\n",
    "z1 = np.sqrt(x**2 + y**2)\n",
    "z2 = np.random.randint(10, 200, size=len(x))\n",
    "\n",
    "fig, ax = plt.subplots()\n",
    "pos = ax.scatter(x, y, c=z1, s=z2, alpha = 0.55, cmap='viridis')\n",
    "fig.colorbar(pos);"
   ]
  },
  {
   "cell_type": "code",
   "execution_count": null,
   "id": "cd6dda2e",
   "metadata": {},
   "outputs": [],
   "source": [
    "### altro uso dei colori\n",
    "x = np.linspace(0, 10, 30)\n",
    "y = np.sin(x)\n",
    "\n",
    "plt.plot(x, y, 'o', color='violet');"
   ]
  },
  {
   "cell_type": "code",
   "execution_count": null,
   "id": "159c9258",
   "metadata": {},
   "outputs": [],
   "source": [
    "### altro uso dei colori\n",
    "plt.plot(x, y, 'o-', color='maroon');"
   ]
  },
  {
   "cell_type": "code",
   "execution_count": null,
   "id": "f2347d5b",
   "metadata": {},
   "outputs": [],
   "source": [
    "#### ANALYZE DATASETS\n",
    "## ESEMPIO 1. IRIS\n",
    "\n",
    "import pandas as pd \n",
    "import numpy as np\n",
    "\n",
    "# pip install scikit-learn\n",
    "from sklearn import datasets\n",
    "\n",
    "# Load the iris dataset\n",
    "iris = datasets.load_iris()\n",
    "\n",
    "# Load it to a pandas dataframe:\n",
    "iris_df = pd.DataFrame(data= np.c_[iris['data'], iris['target']],\n",
    "                     columns= iris['feature_names'] + ['label'])\n",
    "\n",
    "iris_df['label_names'] = iris_df['label'].apply(lambda x: iris.target_names[int(x)])\n",
    "\n",
    "# Let's have a look at how the data looks like\n",
    "display(iris_df)"
   ]
  },
  {
   "cell_type": "code",
   "execution_count": null,
   "id": "3e78e5e4",
   "metadata": {},
   "outputs": [],
   "source": [
    "# Visualize the data using Matplotlib\n",
    "import matplotlib.pyplot as plt\n",
    "\n",
    "colours = ['orange', 'blue', 'green']\n",
    "species = iris.target_names\n",
    "\n",
    "f = plt.figure(figsize=(8,6))\n",
    "\n",
    "for i in range(0, 3):    \n",
    "    species_df = iris_df[iris_df['label'] == i]    \n",
    "    plt.scatter(        \n",
    "        species_df['petal length (cm)'],        \n",
    "        species_df['sepal length (cm)'],\n",
    "        color=colours[i],        \n",
    "        alpha=0.5,        \n",
    "        label=species[i]   \n",
    "    )\n",
    "plt.xlabel('petal length (cm)')\n",
    "plt.ylabel('sepal length (cm)')\n",
    "plt.title('Iris dataset: petal length vs sepal length')\n",
    "plt.legend(loc='lower right')\n",
    "plt.show()"
   ]
  },
  {
   "cell_type": "code",
   "execution_count": null,
   "id": "468d781e",
   "metadata": {},
   "outputs": [],
   "source": [
    "#### TIME SERIES ANALYSIS example\n",
    "\n",
    "\"\"\"\n",
    "    Dataset: Temperature massime medie di Gennaio a New York City nel periodo 1895–2022. \n",
    "    Link: https://www.ncdc.noaa.gov/cag/city/time-series/USH00300042-tavg-1-5-1895-2022.csv?base_prd=true&begbaseyear=1901&endbaseyear=2000\n",
    "    Obiettivo: Utilizzare il metodo della regressione lineare per predire l’andamento delle temperature nel futuro    \n",
    "\"\"\"\n",
    "\n",
    "import pandas as pd\n",
    "nyc = pd.read_csv('USH00305801-tmax-1-1-1895-2022.csv', skiprows = 4) # skiprows mi permette di bypassare righe che non mi interessano\n",
    "\n",
    "## alternativamente mettere direttamente il link\n",
    "# nyc = pd.read_csv('https://www.ncdc.noaa.gov/cag/city/time-series/USH00300042-tavg-1-5-1895-2022.csv?base_prd=true&begbaseyear=1901&endbaseyear=2000',\n",
    "#                     skiprows=4)\n",
    "nyc"
   ]
  },
  {
   "cell_type": "code",
   "execution_count": null,
   "id": "190c1825",
   "metadata": {},
   "outputs": [],
   "source": [
    "# Cleaning the Data\n",
    "nyc.columns = ['Date', 'Temperature', 'Anomaly']\n",
    "nyc.head()"
   ]
  },
  {
   "cell_type": "code",
   "execution_count": null,
   "id": "588b5e57",
   "metadata": {},
   "outputs": [],
   "source": [
    "nyc.tail()"
   ]
  },
  {
   "cell_type": "code",
   "execution_count": null,
   "id": "c44ec5fc",
   "metadata": {},
   "outputs": [],
   "source": [
    "nyc.Date = nyc.Date.floordiv(100) # remove 01 from Date\n",
    "nyc.head()"
   ]
  },
  {
   "cell_type": "code",
   "execution_count": null,
   "id": "367af94a",
   "metadata": {},
   "outputs": [],
   "source": [
    "# Calculating Basic Descriptive Statistics for the Dataset\n",
    "pd.set_option('display.precision', 2)\n",
    "nyc.Temperature.describe()"
   ]
  },
  {
   "cell_type": "code",
   "execution_count": null,
   "id": "50c10789",
   "metadata": {},
   "outputs": [],
   "source": [
    "### plot andamento delle temperature plottando anche la linea media negli anni\n",
    "\n",
    "fig, ax = plt.subplots()        # a figure with a single Axes\n",
    "ax.plot(nyc.Date, nyc.Temperature); # plot temp vs date\n",
    "\n",
    "temp_mean = pd.Series(nyc.Temperature.mean(), range(nyc.Temperature.size)) ## creo una serie di el pari alla media\n",
    "\n",
    "ax.plot(nyc.Date, temp_mean);\n"
   ]
  }
 ],
 "metadata": {
  "kernelspec": {
   "display_name": "Python 3 (ipykernel)",
   "language": "python",
   "name": "python3"
  },
  "language_info": {
   "codemirror_mode": {
    "name": "ipython",
    "version": 3
   },
   "file_extension": ".py",
   "mimetype": "text/x-python",
   "name": "python",
   "nbconvert_exporter": "python",
   "pygments_lexer": "ipython3",
   "version": "3.9.6"
  }
 },
 "nbformat": 4,
 "nbformat_minor": 5
}
