{
 "cells": [
  {
   "cell_type": "code",
   "execution_count": null,
   "id": "ecd47e62",
   "metadata": {},
   "outputs": [],
   "source": [
    "### pandas DataFrame\n",
    "import pandas as pd\n",
    "grades_dict = {'Wally': [87, 96, 70],\n",
    "               'Eva': [100, 87, 90],\n",
    "               'Sam': [94, 77, 90], \n",
    "               'Katie': [100, 81, 82],\n",
    "               'Bob': [83, 65, 85]}\n",
    "grades = pd.DataFrame(grades_dict)\n",
    "grades"
   ]
  },
  {
   "cell_type": "code",
   "execution_count": null,
   "id": "92f9bd60",
   "metadata": {},
   "outputs": [],
   "source": [
    "grades.index = ['Test1', 'Test2', 'Test3']\n",
    "grades"
   ]
  },
  {
   "cell_type": "code",
   "execution_count": null,
   "id": "a9c76315",
   "metadata": {},
   "outputs": [],
   "source": [
    "grades.loc['Test1':'Test3']"
   ]
  },
  {
   "cell_type": "code",
   "execution_count": null,
   "id": "50345957",
   "metadata": {},
   "outputs": [],
   "source": [
    "grades.iloc[0:2]"
   ]
  },
  {
   "cell_type": "code",
   "execution_count": null,
   "id": "2f601e98",
   "metadata": {},
   "outputs": [],
   "source": [
    "grades.loc[['Test1', 'Test3']]"
   ]
  },
  {
   "cell_type": "code",
   "execution_count": null,
   "id": "78c2462f",
   "metadata": {},
   "outputs": [],
   "source": [
    "grades.iloc[[0, 2]]"
   ]
  },
  {
   "cell_type": "code",
   "execution_count": null,
   "id": "3d17216f",
   "metadata": {},
   "outputs": [],
   "source": [
    "grades[grades >= 90]"
   ]
  },
  {
   "cell_type": "code",
   "execution_count": null,
   "id": "1830ef4a",
   "metadata": {},
   "outputs": [],
   "source": [
    "grades.describe()"
   ]
  },
  {
   "cell_type": "code",
   "execution_count": null,
   "id": "54719d48",
   "metadata": {},
   "outputs": [],
   "source": [
    "pd.set_option('display.precision', 2)\n",
    "grades.describe()"
   ]
  },
  {
   "cell_type": "code",
   "execution_count": null,
   "id": "67f1e32a",
   "metadata": {},
   "outputs": [],
   "source": [
    "print(grades.T)"
   ]
  },
  {
   "cell_type": "code",
   "execution_count": null,
   "id": "2659b27e",
   "metadata": {},
   "outputs": [],
   "source": [
    "print(grades.sort_index(ascending=False)) # in maniera discendente"
   ]
  },
  {
   "cell_type": "code",
   "execution_count": null,
   "id": "45f22f78",
   "metadata": {},
   "outputs": [],
   "source": [
    "# Ordinamento per indice delle colonne\n",
    "print(grades.sort_index(axis=1))"
   ]
  },
  {
   "cell_type": "code",
   "execution_count": null,
   "id": "62d46aad",
   "metadata": {},
   "outputs": [],
   "source": [
    "# Ordinamento per valore delle colonne\n",
    "print(grades.sort_values(by='Test1', axis=1, ascending=False))"
   ]
  },
  {
   "cell_type": "code",
   "execution_count": null,
   "id": "676f0f8c",
   "metadata": {},
   "outputs": [],
   "source": [
    "### esercizio pandas\n",
    "\"\"\"\n",
    "Dato il dictionary:\n",
    "\n",
    "temps = {'Mon': [68, 89], 'Tue': [71, 93], 'Wed': [66, 82],\n",
    "                'Thu': [75, 97], 'Fri': [62, 79]}\n",
    "                \n",
    "Svolgere i seguenti task:\n",
    "a) Converti il dizionario nel DataFrame denominato temperature con 'Low', 'High' come gli indici, \n",
    "quindi visualizza il DataFrame.\n",
    "b) Utilizzare i nomi delle colonne per selezionare solo le colonne da \"Mon\" a \"Wed\".\n",
    "c) Utilizzare l'indice di riga 'Low' per selezionare solo le basse temperature di ogni giorno.\n",
    "d) Impostare la precisione in virgola mobile su 2 cifre, quindi calcolare la temperatura media per\n",
    "ogni giorno.\n",
    "e) Calcolare la media delle temperature, nonchè il valore low e high.\n",
    "\"\"\"\n",
    "\n",
    "import pandas as pd\n",
    "\n",
    "temps = {'Mon': [68, 89], 'Tue': [71, 93], 'Wed': [66, 82],\n",
    "          'Thu': [75, 97], 'Fri': [62, 79]}\n",
    "\n",
    "temperatures = pd.DataFrame(temps, index=['Low', 'High'])  # (a)\n",
    "print(\"a:\\n\", temperatures)\n",
    "\n",
    "print(\"\\nb:\\n\", temperatures.loc[:, 'Mon':'Wed'])  # (b)\n",
    "\n",
    "print(\"\\nc:\\n\", temperatures.loc['Low'])  # (c)\n",
    "\n",
    "pd.set_option('display.precision', 2)  # (d)\n",
    "print(\"\\nd:\\n\", temperatures.mean())  \n",
    "\n",
    "print(\"\\ne:\\n\", temperatures.mean(axis=1))  # (e)"
   ]
  }
 ],
 "metadata": {
  "kernelspec": {
   "display_name": "Python 3 (ipykernel)",
   "language": "python",
   "name": "python3"
  },
  "language_info": {
   "codemirror_mode": {
    "name": "ipython",
    "version": 3
   },
   "file_extension": ".py",
   "mimetype": "text/x-python",
   "name": "python",
   "nbconvert_exporter": "python",
   "pygments_lexer": "ipython3",
   "version": "3.9.6"
  }
 },
 "nbformat": 4,
 "nbformat_minor": 5
}
