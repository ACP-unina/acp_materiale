{
 "cells": [
  {
   "cell_type": "code",
   "execution_count": null,
   "id": "ab9aa762",
   "metadata": {},
   "outputs": [],
   "source": [
    "#### uso di CSV\n",
    "\n",
    "import csv\n",
    "\n",
    "# scrittura csv\n",
    "with open('accounts.csv', mode='w', newline='') as accounts:\n",
    "    writer = csv.writer(accounts)\n",
    "    writer.writerow([100, 'Jones', 24.98])\n",
    "    writer.writerow([200, 'Doe', 345.67])\n",
    "    writer.writerow([300, 'White', 0.00])\n",
    "    writer.writerow([400, 'Stone', -42.16])\n",
    "    writer.writerow([500, 'Rich', 224.62])\n",
    "\n",
    "# lettura csv\n",
    "with open('accounts.csv', 'r', newline='') as accounts:\n",
    "    print(f'{\"Account\":<10}{\"Name\":<10}{\"Balance\":>10}')\n",
    "    reader = csv.reader(accounts)\n",
    "    for record in reader:\n",
    "        account, name, balance = record\n",
    "        print(f'{account:<10}{name:<10}{balance:>10}')\n"
   ]
  },
  {
   "cell_type": "code",
   "execution_count": null,
   "id": "4fc08b4f",
   "metadata": {},
   "outputs": [],
   "source": [
    "### Esempio di analisi del dataset Titanic\n",
    "\n",
    "import pandas as pd\n",
    "titanic = pd.read_csv('https://vincentarelbundock.github.io/Rdatasets/csv/carData/TitanicSurvival.csv')"
   ]
  },
  {
   "cell_type": "code",
   "execution_count": null,
   "id": "9651b539",
   "metadata": {},
   "outputs": [],
   "source": [
    "titanic.head()"
   ]
  },
  {
   "cell_type": "code",
   "execution_count": null,
   "id": "99773ff4",
   "metadata": {},
   "outputs": [],
   "source": [
    "titanic.tail()"
   ]
  },
  {
   "cell_type": "code",
   "execution_count": null,
   "id": "b94c0e1d",
   "metadata": {},
   "outputs": [],
   "source": [
    "titanic.describe() ## analisi dei dati solo su colonne numeriche, i.e., age\n",
    "# notare che il count è inferiore a 1308, perchè? ho diversi valori missing, trattati come NaN che non\n",
    "# sono considerati nel calcolo delle statistiche by default in pandas"
   ]
  },
  {
   "cell_type": "code",
   "execution_count": null,
   "id": "182279d2",
   "metadata": {},
   "outputs": [],
   "source": [
    "### otteniamo statistiche solo per i sopravvisuti\n",
    "\"\"\"\n",
    "    in particolare:\n",
    "        - count indica quanti elementi hanno il campo survived == yes\n",
    "        - unique indica quanti valori unici assume il campo survived (yes or no)\n",
    "        - top è il valore più frequente, cioè titanic.survived == 'no'...purtroppo\n",
    "        - freq indica il numero di occorrenze per il predicato titanic.survived == 'yes'\n",
    "\"\"\"\n",
    "(titanic.survived == 'yes').describe()"
   ]
  }
 ],
 "metadata": {
  "kernelspec": {
   "display_name": "Python 3 (ipykernel)",
   "language": "python",
   "name": "python3"
  },
  "language_info": {
   "codemirror_mode": {
    "name": "ipython",
    "version": 3
   },
   "file_extension": ".py",
   "mimetype": "text/x-python",
   "name": "python",
   "nbconvert_exporter": "python",
   "pygments_lexer": "ipython3",
   "version": "3.9.6"
  }
 },
 "nbformat": 4,
 "nbformat_minor": 5
}
