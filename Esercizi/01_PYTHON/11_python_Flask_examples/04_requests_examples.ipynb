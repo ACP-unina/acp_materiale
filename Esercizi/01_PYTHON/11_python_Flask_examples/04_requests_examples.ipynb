{
 "cells": [
  {
   "cell_type": "code",
   "execution_count": null,
   "metadata": {},
   "outputs": [],
   "source": [
    "import requests\n",
    "\n",
    "def print_response(response):\n",
    "\n",
    "    print(\"Encoding:\", response.encoding)\n",
    "    print(\"Status code:\", response.status_code)\n",
    "    print(\"URL:\", response.url)\n",
    "    print(\"Server Header:\", response.headers['Server'])\n",
    "    print(\"Headers:\", response.headers)\n",
    "    print(\"Content:\", response.content)\n",
    "    print(\"Text\", response.text)\n",
    "    \n",
    "    try:\n",
    "        print(\"JSON:\", response.json())\n",
    "    except requests.exceptions.JSONDecodeError:\n",
    "        print(\"Response not in JSON format\")\n",
    "\n",
    "    print()\n",
    "\n",
    "# HEAD\n",
    "print('## HEAD ##')\n",
    "resp = requests.head('https://httpbin.org/get')\n",
    "print_response(resp)\n",
    "\n",
    "# GET\n",
    "print('## GET ##')\n",
    "resp = requests.get('https://httpbin.org/get')\n",
    "print_response(resp)\n",
    "\n",
    "# POST\n",
    "print('## POST ##')\n",
    "resp = requests.post('https://httpbin.org/post', data={'key': 'value'})\n",
    "print_response(resp)\n",
    "\n",
    "# PUT\n",
    "print('## PUT ##')\n",
    "resp = requests.put('https://httpbin.org/put')\n",
    "print_response(resp)\n",
    "\n",
    "# DELETE\n",
    "print('## DELETE ##')\n",
    "resp = requests.delete('https://httpbin.org/delete')\n",
    "print_response(resp)"
   ]
  },
  {
   "cell_type": "code",
   "execution_count": null,
   "metadata": {},
   "outputs": [],
   "source": [
    "# GET with query string\n",
    "print('## GET - 1 ##')\n",
    "payload = {'key1': 'value1', 'key2': 'value2'}\n",
    "resp = requests.get('https://httpbin.org/get', params=payload)\n",
    "print_response(resp)\n",
    "\n",
    "# GET with query string (multiple values for a key)\n",
    "print('## GET - 2 ##')\n",
    "payload = {'key1': 'value1', 'key2': ['value2', 'value3']}\n",
    "resp = requests.get('https://httpbin.org/get', params=payload)\n",
    "print_response(resp)"
   ]
  },
  {
   "cell_type": "code",
   "execution_count": null,
   "metadata": {},
   "outputs": [],
   "source": [
    "# POST with multiple keys\n",
    "print('## POST - 1 ##')\n",
    "payload = {'key1': 'value1', 'key2': 'value2'}\n",
    "resp = requests.post('https://httpbin.org/post', data=payload)\n",
    "print_response(resp)\n",
    "\n",
    "# POST with multiple values for a key\n",
    "print('## POST - 2 ##')\n",
    "payload_dict = {'key1': ['value1', 'value2']}\n",
    "resp = requests.post('https://httpbin.org/post', data=payload_dict)\n",
    "print_response(resp)\n",
    "    \n",
    "# POST with multiple values for a key (using list and tuples)\n",
    "print('## POST - 3 ##')\n",
    "resp = requests.get('https://api.github.com/events')\n",
    "print_response(resp)"
   ]
  },
  {
   "cell_type": "code",
   "execution_count": null,
   "metadata": {},
   "outputs": [],
   "source": [
    "# Generate a bad response\n",
    "resp = requests.get('https://httpbin.org/status/404')\n",
    "print_response(resp)\n",
    "\n",
    "# Check for error\n",
    "resp.raise_for_status()"
   ]
  }
 ],
 "metadata": {
  "kernelspec": {
   "display_name": "Python 3",
   "language": "python",
   "name": "python3"
  },
  "language_info": {
   "codemirror_mode": {
    "name": "ipython",
    "version": 3
   },
   "file_extension": ".py",
   "mimetype": "text/x-python",
   "name": "python",
   "nbconvert_exporter": "python",
   "pygments_lexer": "ipython3",
   "version": "3.9.6"
  }
 },
 "nbformat": 4,
 "nbformat_minor": 2
}
